{
 "cells": [
  {
   "cell_type": "code",
   "execution_count": 2,
   "metadata": {},
   "outputs": [],
   "source": [
    "import numpy as np\n",
    "import pandas as pd\n",
    "import glob\n",
    "import os\n",
    "from sklearn.feature_extraction.text import TfidfVectorizer\n",
    "from sklearn.model_selection import train_test_split\n",
    "from sklearn.preprocessing import LabelEncoder\n",
    "from sklearn import model_selection, svm\n",
    "from sklearn.metrics import accuracy_score\n",
    "from sklearn.metrics import mean_squared_error\n",
    "from sklearn.metrics import r2_score\n",
    "from scipy.stats import norm\n",
    "import random\n",
    "from numpy.linalg import inv\n",
    "from math import sqrt, log, exp, pi"
   ]
  },
  {
   "cell_type": "code",
   "execution_count": null,
   "metadata": {},
   "outputs": [],
   "source": [
    "class GMM:\n",
    "    def __init__(self, k, data, iter):\n",
    "        self.dim = np.shape(data)[1] #assuming data stored row-wise\n",
    "        self.k = k\n",
    "        self.N = np.shape(data)[0] #length of data\n",
    "        self.mu = []\n",
    "        self.covar = []\n",
    "        mu_min = []\n",
    "        mu_max = []\n",
    "        for j in range(self.dim):\n",
    "            mu_min.append(min(data[:, j]))\n",
    "            mu_max.append(max(data[:, j]))\n",
    "        for i in range(k):\n",
    "            tmp_mu = [random.uniform(mu_min[j], mu_max[j]) for j in range(self.dim)]\n",
    "            norm_mu = np.linalg.norm(tmp_mu)\n",
    "            mu_i = np.divide(tmp_mu, norm_mu)\n",
    "            self.mu.append(mu_i)\n",
    "            var_i = [[random.uniform(0.1, 1) for _ in range(self.dim)] for _ in range(self.dim)]\n",
    "            self.covar.append(var_i)\n",
    "        self.pi = [1/k for i in range(k)]\n",
    "        self.data = data\n",
    "        self.loglike = []\n",
    "        self.iterations = iter\n",
    "    \n",
    "    def pdf(self, data, mu, cov, dim):\n",
    "        y = []\n",
    "        for datum in data:\n",
    "            data_np = np.array(datum)\n",
    "            cov_inv= inv(cov)\n",
    "            u = np.dot((data_np - mu).T, cov_inv)\n",
    "            u = np.dot(u,(data_np - mu))\n",
    "            u = u/2\n",
    "            cov_det = abs(np.linalg.det(cov))\n",
    "            y1 = (1 / (pow(2 * pi, dim/2)*pow(cov_det,1/2)))*exp(-1/2 * np.dot(np.dot((data_np-mu).T, np.linalg.inv(cov)), (data_np-mu)))\n",
    "            #y2 = 1/pow((2*pi), -dim/2) * pow(abs(np.linalg.det(cov)), -1/2) * \\\n",
    "            #            np.exp(-1/2 * np.dot(np.dot((data_np-mu).T, np.linalg.inv(cov)), (data_np-mu)))\n",
    "            y.append(y1)\n",
    "        return y\n",
    "    \n",
    "    def E_step(self):\n",
    "        likelihood = []\n",
    "        like_sum = []\n",
    "        for gauss in range(self.k):\n",
    "            y = pdf(self.data, self.mu[gauss], self.cov[guass], self.dim)\n",
    "            tmp_like = [y[i]*self.pi[gauss] for i in range(self.N)]\n",
    "            if gauss == 0:\n",
    "                like_sum = tmp_like\n",
    "            else:\n",
    "                like_sum = np.add(like_sum, tmp_like)\n",
    "            likelihood.append(tmp_like)\n",
    "        for i in range(k):\n",
    "            likelihood[i] = np.divide(likelihood, like_sum)        \n",
    "        return likelihood\n",
    "\n",
    "    def M_step(self):\n",
    "        likelihood = E_step()\n",
    "        likelihood_sum = [sum(like) for like in likelihood]\n",
    "        \n",
    "        for i in range(self.k):\n",
    "            likelihood_sum = [sum(likelihood[i])]\n",
    "            ## Update pi\n",
    "            self.pi[i] = likelihood_sum/self.N\n",
    "            ## Update mean\n",
    "            x = [np.dot(w,d) for (w,d) in zip(likelihood, self.data)]\n",
    "            x = np.array(x)\n",
    "            mu[i] = [ np.divide(sum(x[:,col]),likelihood_sum) for col in range(self.dim)]\n",
    "            \n",
    "            ## Update covariance matrix\n",
    "            tmp_mult = [np.multiply((np.outer((x-u)),(x-u)), l) for (x,u,l) in zip(self.data, mu[i], likelihood[i])]\n",
    "            tmp_mult = sum(np.array(tmp_mult))\n",
    "            self.covar = np.divide(np.array(tmp_mult), likelihood_sum)\n",
    "\n",
    "    def run():\n",
    "        for iter in range(self.iterations):\n",
    "            self.loglike = E_step()\n",
    "            M_step()\n",
    "\n",
    "        print(self.mu)\n",
    "        print(self.pi)\n",
    "        print(self.covar)\n",
    "        \n",
    "    def predict(data):\n",
    "        clust_pred = []\n",
    "        for datum in data:\n",
    "            y_predict = []\n",
    "            for i in range(self.k):\n",
    "                y = self.pdf(data, self.mu[i], self.covar[i], self.dim)\n",
    "                y_predict.append(y)\n",
    "            pred_cluster = list.index(max(y_predict))\n",
    "            clust_pred.append(pred_cluster)\n",
    "        return clust_pred"
   ]
  },
  {
   "cell_type": "code",
   "execution_count": 2,
   "metadata": {},
   "outputs": [
    {
     "name": "stdout",
     "output_type": "stream",
     "text": [
      "['dataset/274_4.txt', 'dataset/100_1.txt', 'dataset/100_2.txt', 'dataset/100_3.txt', 'dataset/100_4.txt', 'dataset/100_5.txt', 'dataset/101_1.txt', 'dataset/101_2.txt', 'dataset/101_3.txt', 'dataset/101_4.txt', 'dataset/101_5.txt', 'dataset/102_1.txt', 'dataset/102_2.txt', 'dataset/102_3.txt', 'dataset/102_4.txt', 'dataset/102_5.txt', 'dataset/103_1.txt', 'dataset/103_2.txt', 'dataset/103_3.txt', 'dataset/103_4.txt', 'dataset/103_5.txt', 'dataset/104_1.txt', 'dataset/104_2.txt', 'dataset/104_3.txt', 'dataset/104_4.txt', 'dataset/104_5.txt', 'dataset/105_1.txt', 'dataset/105_2.txt', 'dataset/105_3.txt', 'dataset/105_4.txt', 'dataset/105_5.txt', 'dataset/106_1.txt', 'dataset/106_2.txt', 'dataset/106_3.txt', 'dataset/106_4.txt', 'dataset/106_5.txt', 'dataset/107_1.txt', 'dataset/107_2.txt', 'dataset/107_3.txt', 'dataset/200_2.txt', 'dataset/200_3.txt', 'dataset/200_4.txt', 'dataset/200_5.txt', 'dataset/201_1.txt', 'dataset/201_2.txt', 'dataset/201_3.txt', 'dataset/201_4.txt', 'dataset/201_5.txt', 'dataset/202_1.txt', 'dataset/202_2.txt', 'dataset/202_3.txt', 'dataset/202_4.txt', 'dataset/202_5.txt', 'dataset/203_1.txt', 'dataset/203_2.txt', 'dataset/203_3.txt', 'dataset/203_4.txt', 'dataset/203_5.txt', 'dataset/204_1.txt', 'dataset/204_2.txt', 'dataset/204_3.txt', 'dataset/204_4.txt', 'dataset/204_5.txt', 'dataset/205_1.txt', 'dataset/205_2.txt', 'dataset/205_3.txt', 'dataset/205_4.txt', 'dataset/205_5.txt', 'dataset/158_2.txt', 'dataset/158_3.txt', 'dataset/158_4.txt', 'dataset/158_5.txt', 'dataset/159_1.txt', 'dataset/159_2.txt', 'dataset/159_3.txt', 'dataset/159_4.txt', 'dataset/159_5.txt', 'dataset/15_1.txt', 'dataset/15_2.txt', 'dataset/15_3.txt', 'dataset/15_4.txt', 'dataset/15_5.txt', 'dataset/160_1.txt', 'dataset/160_2.txt', 'dataset/160_3.txt', 'dataset/160_4.txt', 'dataset/160_5.txt', 'dataset/161_1.txt', 'dataset/161_2.txt', 'dataset/161_3.txt', 'dataset/161_4.txt', 'dataset/161_5.txt', 'dataset/162_1.txt', 'dataset/162_2.txt', 'dataset/162_3.txt', 'dataset/162_4.txt', 'dataset/162_5.txt', 'dataset/163_1.txt', 'dataset/163_2.txt', 'dataset/163_3.txt', 'dataset/163_4.txt', 'dataset/163_5.txt', 'dataset/164_1.txt', 'dataset/164_2.txt', 'dataset/68_2.txt', 'dataset/68_3.txt', 'dataset/68_4.txt', 'dataset/68_5.txt', 'dataset/69_1.txt', 'dataset/69_2.txt', 'dataset/69_3.txt', 'dataset/69_4.txt', 'dataset/69_5.txt', 'dataset/6_1.txt', 'dataset/6_2.txt', 'dataset/6_3.txt', 'dataset/6_4.txt', 'dataset/6_5.txt', 'dataset/70_1.txt', 'dataset/70_2.txt', 'dataset/70_3.txt', 'dataset/70_4.txt', 'dataset/70_5.txt', 'dataset/71_1.txt', 'dataset/71_2.txt', 'dataset/71_3.txt', 'dataset/71_4.txt', 'dataset/71_5.txt', 'dataset/72_1.txt', 'dataset/72_2.txt', 'dataset/72_3.txt', 'dataset/31_2.txt', 'dataset/31_3.txt', 'dataset/31_4.txt', 'dataset/31_5.txt', 'dataset/320_1.txt', 'dataset/320_4.txt', 'dataset/321_1.txt', 'dataset/321_4.txt', 'dataset/322_1.txt', 'dataset/322_4.txt', 'dataset/323_1.txt', 'dataset/323_4.txt', 'dataset/324_1.txt', 'dataset/324_4.txt', 'dataset/325_1.txt', 'dataset/325_4.txt', 'dataset/326_1.txt', 'dataset/326_4.txt', 'dataset/327_1.txt', 'dataset/327_4.txt', 'dataset/328_1.txt', 'dataset/328_4.txt', 'dataset/329_1.txt', 'dataset/329_4.txt', 'dataset/32_1.txt', 'dataset/32_2.txt', 'dataset/32_3.txt', 'dataset/32_4.txt', 'dataset/32_5.txt', 'dataset/107_4.txt', 'dataset/113_1.txt', 'dataset/11_2.txt', 'dataset/127_1.txt', 'dataset/131_3.txt', 'dataset/135_3.txt', 'dataset/141_1.txt', 'dataset/145_3.txt', 'dataset/149_3.txt', 'dataset/154_1.txt', 'dataset/158_1.txt', 'dataset/164_3.txt', 'dataset/169_2.txt', 'dataset/172_3.txt', 'dataset/179_1.txt', 'dataset/184_1.txt', 'dataset/189_2.txt', 'dataset/193_3.txt', 'dataset/197_5.txt', 'dataset/200_1.txt', 'dataset/206_1.txt', 'dataset/20_3.txt', 'dataset/216_1.txt', 'dataset/221_1.txt', 'dataset/228_2.txt', 'dataset/232_3.txt', 'dataset/239_1.txt', 'dataset/245_4.txt', 'dataset/24_2.txt', 'dataset/253_2.txt', 'dataset/257_5.txt', 'dataset/260_4.txt', 'dataset/267_1.txt', 'dataset/270_3.txt', 'dataset/127_2.txt', 'dataset/127_3.txt', 'dataset/127_4.txt', 'dataset/127_5.txt', 'dataset/128_1.txt', 'dataset/128_2.txt', 'dataset/128_3.txt', 'dataset/128_4.txt', 'dataset/128_5.txt', 'dataset/129_1.txt', 'dataset/129_2.txt', 'dataset/129_3.txt', 'dataset/129_4.txt', 'dataset/129_5.txt', 'dataset/12_1.txt', 'dataset/12_2.txt', 'dataset/12_3.txt', 'dataset/12_4.txt', 'dataset/12_5.txt', 'dataset/130_1.txt', 'dataset/130_2.txt', 'dataset/130_3.txt', 'dataset/130_4.txt', 'dataset/130_5.txt', 'dataset/131_1.txt', 'dataset/131_2.txt', 'dataset/43_3.txt', 'dataset/43_4.txt', 'dataset/43_5.txt', 'dataset/44_1.txt', 'dataset/44_2.txt', 'dataset/44_3.txt', 'dataset/44_4.txt', 'dataset/44_5.txt', 'dataset/45_1.txt', 'dataset/45_2.txt', 'dataset/45_3.txt', 'dataset/45_4.txt', 'dataset/45_5.txt', 'dataset/46_1.txt', 'dataset/46_2.txt', 'dataset/46_3.txt', 'dataset/46_4.txt', 'dataset/46_5.txt', 'dataset/47_1.txt', 'dataset/47_2.txt', 'dataset/47_3.txt', 'dataset/392_4.txt', 'dataset/393_1.txt', 'dataset/393_4.txt', 'dataset/394_1.txt', 'dataset/394_4.txt', 'dataset/395_1.txt', 'dataset/395_4.txt', 'dataset/396_1.txt', 'dataset/396_4.txt', 'dataset/397_1.txt', 'dataset/397_4.txt', 'dataset/398_1.txt', 'dataset/398_4.txt', 'dataset/399_1.txt', 'dataset/399_4.txt', 'dataset/39_1.txt', 'dataset/39_2.txt', 'dataset/39_3.txt', 'dataset/39_4.txt', 'dataset/39_5.txt', 'dataset/3_1.txt', 'dataset/3_2.txt', 'dataset/3_3.txt', 'dataset/3_4.txt', 'dataset/3_5.txt', 'dataset/400_1.txt', 'dataset/400_4.txt', 'dataset/401_1.txt', 'dataset/401_4.txt', 'dataset/402_1.txt', 'dataset/402_4.txt', 'dataset/403_1.txt', 'dataset/403_4.txt', 'dataset/404_1.txt', 'dataset/404_4.txt', 'dataset/370_4.txt', 'dataset/371_1.txt', 'dataset/371_4.txt', 'dataset/372_1.txt', 'dataset/372_4.txt', 'dataset/373_1.txt', 'dataset/373_4.txt', 'dataset/374_1.txt', 'dataset/374_4.txt', 'dataset/375_1.txt', 'dataset/375_4.txt', 'dataset/376_1.txt', 'dataset/376_4.txt', 'dataset/377_1.txt', 'dataset/377_4.txt', 'dataset/378_1.txt', 'dataset/378_4.txt', 'dataset/379_1.txt', 'dataset/379_4.txt', 'dataset/37_1.txt', 'dataset/37_2.txt', 'dataset/37_3.txt', 'dataset/37_4.txt', 'dataset/37_5.txt', 'dataset/380_1.txt', 'dataset/380_4.txt', 'dataset/239_2.txt', 'dataset/239_3.txt', 'dataset/239_4.txt', 'dataset/239_5.txt', 'dataset/23_1.txt', 'dataset/23_2.txt', 'dataset/23_3.txt', 'dataset/23_4.txt', 'dataset/23_5.txt', 'dataset/240_1.txt', 'dataset/240_2.txt', 'dataset/240_3.txt', 'dataset/240_4.txt', 'dataset/240_5.txt', 'dataset/241_1.txt', 'dataset/241_2.txt', 'dataset/241_3.txt', 'dataset/241_4.txt', 'dataset/241_5.txt', 'dataset/242_1.txt', 'dataset/242_2.txt', 'dataset/242_3.txt', 'dataset/242_4.txt', 'dataset/242_5.txt', 'dataset/243_1.txt', 'dataset/243_2.txt', 'dataset/243_3.txt', 'dataset/243_4.txt', 'dataset/243_5.txt', 'dataset/244_1.txt', 'dataset/244_2.txt', 'dataset/244_3.txt', 'dataset/244_4.txt', 'dataset/244_5.txt', 'dataset/245_1.txt', 'dataset/245_2.txt', 'dataset/245_3.txt', 'dataset/290_3.txt', 'dataset/290_4.txt', 'dataset/290_5.txt', 'dataset/291_1.txt', 'dataset/291_3.txt', 'dataset/291_4.txt', 'dataset/291_5.txt', 'dataset/292_1.txt', 'dataset/292_3.txt', 'dataset/292_4.txt', 'dataset/292_5.txt', 'dataset/293_1.txt', 'dataset/293_3.txt', 'dataset/293_4.txt', 'dataset/293_5.txt', 'dataset/294_1.txt', 'dataset/294_3.txt', 'dataset/294_4.txt', 'dataset/294_5.txt', 'dataset/295_1.txt', 'dataset/295_3.txt', 'dataset/295_4.txt', 'dataset/295_5.txt', 'dataset/296_1.txt', 'dataset/296_3.txt', 'dataset/296_4.txt', 'dataset/296_5.txt', 'dataset/297_1.txt', 'dataset/297_3.txt', 'dataset/297_4.txt', 'dataset/297_5.txt', 'dataset/298_1.txt', 'dataset/298_3.txt', 'dataset/298_4.txt', 'dataset/298_5.txt', 'dataset/299_1.txt', 'dataset/267_2.txt', 'dataset/267_3.txt', 'dataset/267_4.txt', 'dataset/267_5.txt', 'dataset/268_1.txt', 'dataset/268_2.txt', 'dataset/268_3.txt', 'dataset/268_4.txt', 'dataset/268_5.txt', 'dataset/269_1.txt', 'dataset/269_2.txt', 'dataset/269_3.txt', 'dataset/269_4.txt', 'dataset/269_5.txt', 'dataset/26_1.txt', 'dataset/26_2.txt', 'dataset/26_3.txt', 'dataset/26_4.txt', 'dataset/26_5.txt', 'dataset/270_1.txt', 'dataset/270_2.txt', 'dataset/221_2.txt', 'dataset/221_3.txt', 'dataset/221_4.txt', 'dataset/221_5.txt', 'dataset/222_1.txt', 'dataset/222_2.txt', 'dataset/222_3.txt', 'dataset/222_4.txt', 'dataset/222_5.txt', 'dataset/223_1.txt', 'dataset/223_2.txt', 'dataset/223_3.txt', 'dataset/223_4.txt', 'dataset/223_5.txt', 'dataset/224_1.txt', 'dataset/224_2.txt', 'dataset/224_3.txt', 'dataset/224_4.txt', 'dataset/224_5.txt', 'dataset/225_1.txt', 'dataset/225_2.txt', 'dataset/225_3.txt', 'dataset/225_4.txt', 'dataset/225_5.txt', 'dataset/226_1.txt', 'dataset/226_2.txt', 'dataset/226_3.txt', 'dataset/226_4.txt', 'dataset/226_5.txt', 'dataset/227_1.txt', 'dataset/227_2.txt', 'dataset/227_3.txt', 'dataset/227_4.txt', 'dataset/227_5.txt', 'dataset/228_1.txt', 'dataset/184_2.txt', 'dataset/184_3.txt', 'dataset/184_4.txt', 'dataset/184_5.txt', 'dataset/185_1.txt', 'dataset/185_2.txt', 'dataset/185_3.txt', 'dataset/185_4.txt', 'dataset/185_5.txt', 'dataset/186_1.txt', 'dataset/186_2.txt', 'dataset/186_3.txt', 'dataset/186_4.txt', 'dataset/186_5.txt', 'dataset/187_1.txt', 'dataset/187_2.txt', 'dataset/187_3.txt', 'dataset/187_4.txt', 'dataset/187_5.txt', 'dataset/188_1.txt', 'dataset/188_2.txt', 'dataset/188_3.txt', 'dataset/188_4.txt', 'dataset/188_5.txt', 'dataset/189_1.txt', 'dataset/141_2.txt', 'dataset/141_3.txt', 'dataset/141_4.txt', 'dataset/141_5.txt', 'dataset/142_1.txt', 'dataset/142_2.txt', 'dataset/142_3.txt', 'dataset/142_4.txt', 'dataset/142_5.txt', 'dataset/143_1.txt', 'dataset/143_2.txt', 'dataset/143_3.txt', 'dataset/143_4.txt', 'dataset/143_5.txt', 'dataset/144_1.txt', 'dataset/144_2.txt', 'dataset/144_3.txt', 'dataset/144_4.txt', 'dataset/144_5.txt', 'dataset/145_1.txt', 'dataset/145_2.txt', 'dataset/85_3.txt', 'dataset/85_4.txt', 'dataset/85_5.txt', 'dataset/86_1.txt', 'dataset/86_2.txt', 'dataset/86_3.txt', 'dataset/86_4.txt', 'dataset/86_5.txt', 'dataset/87_1.txt', 'dataset/87_2.txt', 'dataset/87_3.txt', 'dataset/87_4.txt', 'dataset/87_5.txt', 'dataset/88_1.txt', 'dataset/88_2.txt', 'dataset/88_3.txt', 'dataset/88_4.txt', 'dataset/88_5.txt', 'dataset/89_1.txt', 'dataset/89_2.txt', 'dataset/89_3.txt', 'dataset/89_4.txt', 'dataset/89_5.txt', 'dataset/8_1.txt', 'dataset/8_2.txt', 'dataset/8_3.txt', 'dataset/8_4.txt', 'dataset/8_5.txt', 'dataset/90_1.txt', 'dataset/90_2.txt', 'dataset/90_3.txt', 'dataset/90_4.txt', 'dataset/90_5.txt', 'dataset/91_1.txt', 'dataset/91_2.txt', 'dataset/91_3.txt', 'dataset/91_4.txt', 'dataset/91_5.txt', 'dataset/92_1.txt', 'dataset/172_4.txt', 'dataset/172_5.txt', 'dataset/173_1.txt', 'dataset/173_2.txt', 'dataset/173_3.txt', 'dataset/173_4.txt', 'dataset/173_5.txt', 'dataset/174_1.txt', 'dataset/174_2.txt', 'dataset/174_3.txt', 'dataset/174_4.txt', 'dataset/174_5.txt', 'dataset/175_1.txt', 'dataset/175_2.txt', 'dataset/175_3.txt', 'dataset/175_4.txt', 'dataset/175_5.txt', 'dataset/176_1.txt', 'dataset/176_2.txt', 'dataset/176_3.txt', 'dataset/176_4.txt', 'dataset/176_5.txt', 'dataset/177_1.txt', 'dataset/177_2.txt', 'dataset/177_3.txt', 'dataset/177_4.txt', 'dataset/177_5.txt', 'dataset/178_1.txt', 'dataset/178_2.txt', 'dataset/178_3.txt', 'dataset/178_4.txt', 'dataset/178_5.txt', 'dataset/113_2.txt', 'dataset/113_3.txt', 'dataset/113_4.txt', 'dataset/113_5.txt', 'dataset/114_1.txt', 'dataset/114_2.txt', 'dataset/114_3.txt', 'dataset/114_4.txt', 'dataset/114_5.txt', 'dataset/115_1.txt', 'dataset/115_2.txt', 'dataset/115_3.txt', 'dataset/115_4.txt', 'dataset/115_5.txt', 'dataset/116_1.txt', 'dataset/116_2.txt', 'dataset/116_3.txt', 'dataset/116_4.txt', 'dataset/116_5.txt', 'dataset/117_1.txt', 'dataset/117_2.txt', 'dataset/117_3.txt', 'dataset/117_4.txt', 'dataset/117_5.txt', 'dataset/118_1.txt', 'dataset/118_2.txt', 'dataset/118_3.txt', 'dataset/118_4.txt', 'dataset/118_5.txt', 'dataset/119_1.txt', 'dataset/119_2.txt', 'dataset/119_3.txt', 'dataset/119_4.txt', 'dataset/119_5.txt', 'dataset/11_1.txt', 'dataset/58_4.txt', 'dataset/58_5.txt', 'dataset/59_1.txt', 'dataset/59_2.txt', 'dataset/59_3.txt', 'dataset/59_4.txt', 'dataset/59_5.txt', 'dataset/5_1.txt', 'dataset/5_2.txt', 'dataset/5_3.txt', 'dataset/5_4.txt', 'dataset/5_5.txt', 'dataset/60_1.txt', 'dataset/60_2.txt', 'dataset/60_3.txt', 'dataset/60_4.txt', 'dataset/60_5.txt', 'dataset/61_1.txt', 'dataset/61_2.txt', 'dataset/61_3.txt', 'dataset/61_4.txt', 'dataset/61_5.txt', 'dataset/62_1.txt', 'dataset/62_2.txt', 'dataset/62_3.txt', 'dataset/62_4.txt', 'dataset/62_5.txt', 'dataset/63_1.txt', 'dataset/63_2.txt', 'dataset/78_3.txt', 'dataset/78_4.txt', 'dataset/78_5.txt', 'dataset/79_1.txt', 'dataset/79_2.txt', 'dataset/79_3.txt', 'dataset/79_4.txt', 'dataset/79_5.txt', 'dataset/7_1.txt', 'dataset/7_2.txt', 'dataset/7_3.txt', 'dataset/7_4.txt', 'dataset/7_5.txt', 'dataset/80_1.txt', 'dataset/80_2.txt', 'dataset/80_3.txt', 'dataset/80_4.txt', 'dataset/80_5.txt', 'dataset/81_1.txt', 'dataset/81_2.txt', 'dataset/81_3.txt', 'dataset/81_4.txt', 'dataset/81_5.txt', 'dataset/82_1.txt', 'dataset/82_2.txt', 'dataset/82_3.txt', 'dataset/82_4.txt', 'dataset/82_5.txt', 'dataset/83_1.txt', 'dataset/83_2.txt', 'dataset/83_3.txt', 'dataset/83_4.txt', 'dataset/83_5.txt', 'dataset/84_1.txt', 'dataset/84_2.txt', 'dataset/84_3.txt', 'dataset/84_4.txt', 'dataset/84_5.txt', 'dataset/85_1.txt', 'dataset/342_4.txt', 'dataset/343_1.txt', 'dataset/343_4.txt', 'dataset/344_1.txt', 'dataset/344_4.txt', 'dataset/345_1.txt', 'dataset/345_4.txt', 'dataset/346_1.txt', 'dataset/346_4.txt', 'dataset/347_1.txt', 'dataset/347_4.txt', 'dataset/348_1.txt', 'dataset/348_4.txt', 'dataset/349_1.txt', 'dataset/349_4.txt', 'dataset/34_1.txt', 'dataset/34_2.txt', 'dataset/34_3.txt', 'dataset/34_4.txt', 'dataset/34_5.txt', 'dataset/350_1.txt', 'dataset/350_4.txt', 'dataset/351_1.txt', 'dataset/351_4.txt', 'dataset/352_1.txt', 'dataset/352_4.txt', 'dataset/353_1.txt', 'dataset/353_4.txt', 'dataset/354_1.txt', 'dataset/354_4.txt', 'dataset/280_3.txt', 'dataset/280_4.txt', 'dataset/280_5.txt', 'dataset/281_1.txt', 'dataset/281_2.txt', 'dataset/281_3.txt', 'dataset/281_4.txt', 'dataset/281_5.txt', 'dataset/282_1.txt', 'dataset/282_2.txt', 'dataset/282_3.txt', 'dataset/282_4.txt', 'dataset/282_5.txt', 'dataset/283_1.txt', 'dataset/283_2.txt', 'dataset/283_3.txt', 'dataset/283_4.txt', 'dataset/283_5.txt', 'dataset/284_1.txt', 'dataset/284_2.txt', 'dataset/284_3.txt', 'dataset/284_4.txt', 'dataset/284_5.txt', 'dataset/285_1.txt', 'dataset/285_2.txt', 'dataset/285_3.txt', 'dataset/253_3.txt', 'dataset/253_4.txt', 'dataset/253_5.txt', 'dataset/254_1.txt', 'dataset/254_2.txt', 'dataset/254_3.txt', 'dataset/254_4.txt', 'dataset/254_5.txt', 'dataset/255_1.txt', 'dataset/255_2.txt', 'dataset/255_3.txt', 'dataset/255_4.txt', 'dataset/255_5.txt', 'dataset/256_1.txt', 'dataset/256_2.txt', 'dataset/256_3.txt', 'dataset/256_4.txt', 'dataset/256_5.txt', 'dataset/257_1.txt', 'dataset/257_2.txt', 'dataset/257_3.txt', 'dataset/257_4.txt', 'dataset/305_4.txt', 'dataset/306_1.txt', 'dataset/306_3.txt', 'dataset/306_4.txt', 'dataset/307_1.txt', 'dataset/307_3.txt', 'dataset/307_4.txt', 'dataset/308_1.txt', 'dataset/308_3.txt', 'dataset/308_4.txt', 'dataset/309_1.txt', 'dataset/309_3.txt', 'dataset/309_4.txt', 'dataset/30_1.txt', 'dataset/30_2.txt', 'dataset/30_3.txt', 'dataset/30_4.txt', 'dataset/30_5.txt', 'dataset/310_1.txt', 'dataset/310_3.txt', 'dataset/310_4.txt', 'dataset/232_4.txt', 'dataset/232_5.txt', 'dataset/233_1.txt', 'dataset/233_2.txt', 'dataset/233_3.txt', 'dataset/233_4.txt', 'dataset/233_5.txt', 'dataset/234_1.txt', 'dataset/234_2.txt', 'dataset/234_3.txt', 'dataset/234_4.txt', 'dataset/234_5.txt', 'dataset/235_1.txt', 'dataset/235_2.txt', 'dataset/235_3.txt', 'dataset/235_4.txt', 'dataset/235_5.txt', 'dataset/236_1.txt', 'dataset/236_2.txt', 'dataset/236_3.txt', 'dataset/236_4.txt', 'dataset/236_5.txt', 'dataset/237_1.txt', 'dataset/237_2.txt', 'dataset/237_3.txt', 'dataset/237_4.txt', 'dataset/237_5.txt', 'dataset/238_1.txt', 'dataset/238_2.txt', 'dataset/238_3.txt', 'dataset/238_4.txt', 'dataset/238_5.txt', 'dataset/20_4.txt', 'dataset/20_5.txt', 'dataset/210_1.txt', 'dataset/210_2.txt', 'dataset/210_3.txt', 'dataset/210_4.txt', 'dataset/210_5.txt', 'dataset/211_1.txt', 'dataset/211_2.txt', 'dataset/211_3.txt', 'dataset/211_4.txt', 'dataset/211_5.txt', 'dataset/212_1.txt', 'dataset/212_2.txt', 'dataset/212_3.txt', 'dataset/212_4.txt', 'dataset/212_5.txt', 'dataset/213_1.txt', 'dataset/213_2.txt', 'dataset/213_3.txt', 'dataset/213_4.txt', 'dataset/213_5.txt', 'dataset/214_1.txt', 'dataset/214_2.txt', 'dataset/214_3.txt', 'dataset/214_4.txt', 'dataset/214_5.txt', 'dataset/215_1.txt', 'dataset/215_2.txt', 'dataset/215_3.txt', 'dataset/215_4.txt', 'dataset/215_5.txt', 'dataset/193_4.txt', 'dataset/193_5.txt', 'dataset/194_1.txt', 'dataset/194_2.txt', 'dataset/194_3.txt', 'dataset/194_4.txt', 'dataset/194_5.txt', 'dataset/195_1.txt', 'dataset/195_2.txt', 'dataset/195_3.txt', 'dataset/195_4.txt', 'dataset/195_5.txt', 'dataset/196_1.txt', 'dataset/196_2.txt', 'dataset/196_3.txt', 'dataset/196_4.txt', 'dataset/196_5.txt', 'dataset/197_1.txt', 'dataset/197_2.txt', 'dataset/197_3.txt', 'dataset/197_4.txt', 'dataset/135_4.txt', 'dataset/135_5.txt', 'dataset/136_1.txt', 'dataset/136_2.txt', 'dataset/136_3.txt', 'dataset/136_4.txt', 'dataset/136_5.txt', 'dataset/137_1.txt', 'dataset/137_2.txt', 'dataset/137_3.txt', 'dataset/137_4.txt', 'dataset/137_5.txt', 'dataset/138_1.txt', 'dataset/138_2.txt', 'dataset/138_3.txt', 'dataset/138_4.txt', 'dataset/138_5.txt', 'dataset/139_1.txt', 'dataset/139_2.txt', 'dataset/139_3.txt', 'dataset/139_4.txt', 'dataset/139_5.txt', 'dataset/13_1.txt', 'dataset/13_2.txt', 'dataset/13_3.txt', 'dataset/13_4.txt', 'dataset/13_5.txt', 'dataset/140_1.txt', 'dataset/140_2.txt', 'dataset/140_3.txt', 'dataset/140_4.txt', 'dataset/140_5.txt', 'dataset/107_5.txt', 'dataset/108_1.txt', 'dataset/108_2.txt', 'dataset/108_3.txt', 'dataset/108_4.txt', 'dataset/108_5.txt', 'dataset/109_1.txt', 'dataset/109_2.txt', 'dataset/109_3.txt', 'dataset/109_4.txt', 'dataset/109_5.txt', 'dataset/10_1.txt', 'dataset/10_2.txt', 'dataset/10_3.txt', 'dataset/10_4.txt', 'dataset/10_5.txt', 'dataset/110_1.txt', 'dataset/110_2.txt', 'dataset/110_3.txt', 'dataset/110_4.txt', 'dataset/110_5.txt', 'dataset/111_1.txt', 'dataset/111_2.txt', 'dataset/111_3.txt', 'dataset/111_4.txt', 'dataset/111_5.txt', 'dataset/112_1.txt', 'dataset/112_2.txt', 'dataset/112_3.txt', 'dataset/112_4.txt', 'dataset/112_5.txt', 'dataset/92_3.txt', 'dataset/92_4.txt', 'dataset/92_5.txt', 'dataset/93_1.txt', 'dataset/93_2.txt', 'dataset/93_3.txt', 'dataset/93_4.txt', 'dataset/93_5.txt', 'dataset/94_1.txt', 'dataset/94_2.txt', 'dataset/94_3.txt', 'dataset/94_4.txt', 'dataset/94_5.txt', 'dataset/95_1.txt', 'dataset/95_2.txt', 'dataset/95_3.txt', 'dataset/95_4.txt', 'dataset/95_5.txt', 'dataset/96_1.txt', 'dataset/96_2.txt', 'dataset/96_3.txt', 'dataset/50_5.txt', 'dataset/51_1.txt', 'dataset/51_2.txt', 'dataset/51_3.txt', 'dataset/51_4.txt', 'dataset/51_5.txt', 'dataset/52_1.txt', 'dataset/52_2.txt', 'dataset/52_3.txt', 'dataset/52_4.txt', 'dataset/52_5.txt', 'dataset/53_1.txt', 'dataset/53_2.txt', 'dataset/53_3.txt', 'dataset/53_4.txt', 'dataset/53_5.txt', 'dataset/54_1.txt', 'dataset/54_2.txt', 'dataset/54_3.txt', 'dataset/54_4.txt', 'dataset/54_5.txt', 'dataset/55_1.txt', 'dataset/55_2.txt', 'dataset/55_3.txt', 'dataset/55_4.txt', 'dataset/55_5.txt', 'dataset/56_1.txt', 'dataset/56_2.txt', 'dataset/56_3.txt', 'dataset/56_4.txt', 'dataset/56_5.txt', 'dataset/57_1.txt', 'dataset/57_2.txt', 'dataset/57_3.txt', 'dataset/57_4.txt', 'dataset/57_5.txt', 'dataset/58_1.txt', 'dataset/58_2.txt', 'dataset/405_4.txt', 'dataset/406_1.txt', 'dataset/406_4.txt', 'dataset/407_1.txt', 'dataset/407_4.txt', 'dataset/408_1.txt', 'dataset/408_4.txt', 'dataset/409_1.txt', 'dataset/409_4.txt', 'dataset/40_1.txt', 'dataset/40_2.txt', 'dataset/40_3.txt', 'dataset/40_4.txt', 'dataset/40_5.txt', 'dataset/410_1.txt', 'dataset/410_4.txt', 'dataset/411_4.txt', 'dataset/41_1.txt', 'dataset/41_2.txt', 'dataset/41_3.txt', 'dataset/41_4.txt', 'dataset/41_5.txt', 'dataset/42_1.txt', 'dataset/42_2.txt', 'dataset/42_3.txt', 'dataset/42_4.txt', 'dataset/42_5.txt', 'dataset/43_1.txt', 'dataset/355_4.txt', 'dataset/356_1.txt', 'dataset/356_4.txt', 'dataset/357_1.txt', 'dataset/357_4.txt', 'dataset/358_1.txt', 'dataset/358_4.txt', 'dataset/359_1.txt', 'dataset/359_4.txt', 'dataset/35_1.txt', 'dataset/35_2.txt', 'dataset/35_3.txt', 'dataset/35_4.txt', 'dataset/35_5.txt', 'dataset/360_1.txt', 'dataset/360_4.txt', 'dataset/361_1.txt', 'dataset/361_4.txt', 'dataset/362_1.txt', 'dataset/362_4.txt', 'dataset/11_3.txt', 'dataset/11_4.txt', 'dataset/11_5.txt', 'dataset/120_1.txt', 'dataset/120_2.txt', 'dataset/120_3.txt', 'dataset/120_4.txt', 'dataset/120_5.txt', 'dataset/121_1.txt', 'dataset/121_2.txt', 'dataset/121_3.txt', 'dataset/121_4.txt', 'dataset/121_5.txt', 'dataset/122_1.txt', 'dataset/122_2.txt', 'dataset/122_3.txt', 'dataset/122_4.txt', 'dataset/122_5.txt', 'dataset/123_1.txt', 'dataset/123_2.txt', 'dataset/123_3.txt', 'dataset/123_4.txt', 'dataset/123_5.txt', 'dataset/124_1.txt', 'dataset/124_2.txt', 'dataset/124_3.txt', 'dataset/124_4.txt', 'dataset/124_5.txt', 'dataset/125_1.txt', 'dataset/125_2.txt', 'dataset/125_3.txt', 'dataset/125_4.txt', 'dataset/125_5.txt', 'dataset/126_1.txt', 'dataset/126_2.txt', 'dataset/126_3.txt', 'dataset/126_4.txt', 'dataset/126_5.txt', 'dataset/299_4.txt', 'dataset/299_5.txt', 'dataset/29_1.txt', 'dataset/29_2.txt', 'dataset/29_3.txt', 'dataset/29_4.txt', 'dataset/29_5.txt', 'dataset/2_1.txt', 'dataset/2_2.txt', 'dataset/2_3.txt', 'dataset/2_4.txt', 'dataset/2_5.txt', 'dataset/300_1.txt', 'dataset/300_3.txt', 'dataset/300_4.txt', 'dataset/300_5.txt', 'dataset/301_1.txt', 'dataset/301_3.txt', 'dataset/301_4.txt', 'dataset/301_5.txt', 'dataset/302_1.txt', 'dataset/302_3.txt', 'dataset/302_4.txt', 'dataset/303_1.txt', 'dataset/303_3.txt', 'dataset/303_4.txt', 'dataset/304_1.txt', 'dataset/304_3.txt', 'dataset/304_4.txt', 'dataset/305_1.txt', 'dataset/274_5.txt', 'dataset/275_1.txt', 'dataset/275_2.txt', 'dataset/275_3.txt', 'dataset/275_4.txt', 'dataset/275_5.txt', 'dataset/276_1.txt', 'dataset/276_2.txt', 'dataset/276_3.txt', 'dataset/276_4.txt', 'dataset/276_5.txt', 'dataset/277_1.txt', 'dataset/277_2.txt', 'dataset/277_3.txt', 'dataset/277_4.txt', 'dataset/277_5.txt', 'dataset/278_1.txt', 'dataset/278_2.txt', 'dataset/278_3.txt', 'dataset/278_4.txt', 'dataset/278_5.txt', 'dataset/279_1.txt', 'dataset/279_2.txt', 'dataset/279_3.txt', 'dataset/279_4.txt', 'dataset/279_5.txt', 'dataset/27_1.txt', 'dataset/27_2.txt', 'dataset/27_3.txt', 'dataset/27_4.txt', 'dataset/27_5.txt', 'dataset/280_1.txt', 'dataset/245_5.txt', 'dataset/246_1.txt', 'dataset/246_2.txt', 'dataset/246_3.txt', 'dataset/246_4.txt', 'dataset/246_5.txt', 'dataset/247_1.txt', 'dataset/247_2.txt', 'dataset/247_3.txt', 'dataset/247_4.txt', 'dataset/247_5.txt', 'dataset/248_1.txt', 'dataset/248_2.txt', 'dataset/248_3.txt', 'dataset/248_4.txt', 'dataset/248_5.txt', 'dataset/249_1.txt', 'dataset/249_2.txt', 'dataset/249_3.txt', 'dataset/249_4.txt', 'dataset/249_5.txt', 'dataset/24_1.txt', 'dataset/280_2.txt', 'dataset/285_4.txt', 'dataset/290_1.txt', 'dataset/299_3.txt', 'dataset/305_3.txt', 'dataset/311_1.txt', 'dataset/31_1.txt', 'dataset/330_1.txt', 'dataset/342_1.txt', 'dataset/355_1.txt', 'dataset/363_1.txt', 'dataset/370_1.txt', 'dataset/381_1.txt', 'dataset/392_1.txt', 'dataset/405_1.txt', 'dataset/43_2.txt', 'dataset/47_4.txt', 'dataset/50_4.txt', 'dataset/58_3.txt', 'dataset/63_3.txt', 'dataset/68_1.txt', 'dataset/72_4.txt', 'dataset/78_2.txt', 'dataset/85_2.txt', 'dataset/92_2.txt', 'dataset/96_4.txt', 'dataset/164_4.txt', 'dataset/164_5.txt', 'dataset/165_1.txt', 'dataset/165_2.txt', 'dataset/165_3.txt', 'dataset/165_4.txt', 'dataset/165_5.txt', 'dataset/166_1.txt', 'dataset/166_2.txt', 'dataset/166_3.txt', 'dataset/166_4.txt', 'dataset/166_5.txt', 'dataset/167_1.txt', 'dataset/167_2.txt', 'dataset/167_3.txt', 'dataset/167_4.txt', 'dataset/167_5.txt', 'dataset/168_1.txt', 'dataset/168_2.txt', 'dataset/168_3.txt', 'dataset/168_4.txt', 'dataset/168_5.txt', 'dataset/169_1.txt', 'dataset/149_4.txt', 'dataset/149_5.txt', 'dataset/14_1.txt', 'dataset/14_2.txt', 'dataset/14_3.txt', 'dataset/14_4.txt', 'dataset/14_5.txt', 'dataset/150_1.txt', 'dataset/150_2.txt', 'dataset/150_3.txt', 'dataset/150_4.txt', 'dataset/150_5.txt', 'dataset/151_1.txt', 'dataset/151_2.txt', 'dataset/151_3.txt', 'dataset/151_4.txt', 'dataset/151_5.txt', 'dataset/152_1.txt', 'dataset/152_2.txt', 'dataset/152_3.txt', 'dataset/152_4.txt', 'dataset/152_5.txt', 'dataset/153_1.txt', 'dataset/153_2.txt', 'dataset/153_3.txt', 'dataset/153_4.txt', 'dataset/153_5.txt', 'dataset/330_4.txt', 'dataset/331_1.txt', 'dataset/331_4.txt', 'dataset/332_1.txt', 'dataset/332_4.txt', 'dataset/333_1.txt', 'dataset/333_4.txt', 'dataset/334_1.txt', 'dataset/334_4.txt', 'dataset/335_1.txt', 'dataset/335_4.txt', 'dataset/336_1.txt', 'dataset/336_4.txt', 'dataset/337_1.txt', 'dataset/337_4.txt', 'dataset/338_1.txt', 'dataset/338_4.txt', 'dataset/339_1.txt', 'dataset/339_4.txt', 'dataset/33_1.txt', 'dataset/33_2.txt', 'dataset/33_3.txt', 'dataset/33_4.txt', 'dataset/33_5.txt', 'dataset/340_1.txt', 'dataset/340_4.txt', 'dataset/341_1.txt', 'dataset/341_4.txt', 'dataset/260_5.txt', 'dataset/261_1.txt', 'dataset/261_2.txt', 'dataset/261_3.txt', 'dataset/261_4.txt', 'dataset/261_5.txt', 'dataset/262_1.txt', 'dataset/262_2.txt', 'dataset/262_3.txt', 'dataset/262_4.txt', 'dataset/262_5.txt', 'dataset/263_1.txt', 'dataset/263_2.txt', 'dataset/263_3.txt', 'dataset/263_4.txt', 'dataset/263_5.txt', 'dataset/264_1.txt', 'dataset/264_2.txt', 'dataset/264_3.txt', 'dataset/264_4.txt', 'dataset/264_5.txt', 'dataset/265_1.txt', 'dataset/265_2.txt', 'dataset/265_3.txt', 'dataset/265_4.txt', 'dataset/265_5.txt', 'dataset/266_1.txt', 'dataset/266_2.txt', 'dataset/266_3.txt', 'dataset/266_4.txt', 'dataset/266_5.txt', 'dataset/228_3.txt', 'dataset/228_4.txt', 'dataset/228_5.txt', 'dataset/229_1.txt', 'dataset/229_2.txt', 'dataset/229_3.txt', 'dataset/229_4.txt', 'dataset/229_5.txt', 'dataset/22_1.txt', 'dataset/22_2.txt', 'dataset/22_3.txt', 'dataset/22_4.txt', 'dataset/22_5.txt', 'dataset/230_1.txt', 'dataset/230_2.txt', 'dataset/230_3.txt', 'dataset/230_4.txt', 'dataset/230_5.txt', 'dataset/231_1.txt', 'dataset/231_2.txt', 'dataset/231_3.txt', 'dataset/231_4.txt', 'dataset/231_5.txt', 'dataset/232_1.txt', 'dataset/232_2.txt', 'dataset/216_2.txt', 'dataset/216_3.txt', 'dataset/216_4.txt', 'dataset/216_5.txt', 'dataset/217_1.txt', 'dataset/217_2.txt', 'dataset/217_3.txt', 'dataset/217_4.txt', 'dataset/217_5.txt', 'dataset/218_1.txt', 'dataset/218_2.txt', 'dataset/218_3.txt', 'dataset/218_4.txt', 'dataset/218_5.txt', 'dataset/219_1.txt', 'dataset/219_2.txt', 'dataset/219_3.txt', 'dataset/219_4.txt', 'dataset/219_5.txt', 'dataset/21_1.txt', 'dataset/21_2.txt', 'dataset/21_3.txt', 'dataset/21_4.txt', 'dataset/21_5.txt', 'dataset/220_1.txt', 'dataset/220_2.txt', 'dataset/220_3.txt', 'dataset/220_4.txt', 'dataset/220_5.txt', 'dataset/72_5.txt', 'dataset/73_1.txt', 'dataset/73_2.txt', 'dataset/73_3.txt', 'dataset/73_4.txt', 'dataset/73_5.txt', 'dataset/74_1.txt', 'dataset/74_2.txt', 'dataset/74_3.txt', 'dataset/74_4.txt', 'dataset/74_5.txt', 'dataset/75_1.txt', 'dataset/75_2.txt', 'dataset/75_3.txt', 'dataset/75_4.txt', 'dataset/75_5.txt', 'dataset/76_1.txt', 'dataset/76_2.txt', 'dataset/76_3.txt', 'dataset/76_4.txt', 'dataset/76_5.txt', 'dataset/77_1.txt', 'dataset/77_2.txt', 'dataset/77_3.txt', 'dataset/77_4.txt', 'dataset/77_5.txt', 'dataset/78_1.txt', 'dataset/179_2.txt', 'dataset/179_3.txt', 'dataset/179_4.txt', 'dataset/179_5.txt', 'dataset/17_1.txt', 'dataset/17_2.txt', 'dataset/17_3.txt', 'dataset/17_4.txt', 'dataset/17_5.txt', 'dataset/180_1.txt', 'dataset/180_2.txt', 'dataset/180_3.txt', 'dataset/180_4.txt', 'dataset/180_5.txt', 'dataset/181_1.txt', 'dataset/181_2.txt', 'dataset/181_3.txt', 'dataset/181_4.txt', 'dataset/181_5.txt', 'dataset/182_1.txt', 'dataset/182_2.txt', 'dataset/182_3.txt', 'dataset/182_4.txt', 'dataset/182_5.txt', 'dataset/183_1.txt', 'dataset/183_2.txt', 'dataset/183_3.txt', 'dataset/183_4.txt', 'dataset/183_5.txt', 'dataset/63_4.txt', 'dataset/63_5.txt', 'dataset/64_1.txt', 'dataset/64_2.txt', 'dataset/64_3.txt', 'dataset/64_4.txt', 'dataset/64_5.txt', 'dataset/65_1.txt', 'dataset/65_2.txt', 'dataset/65_3.txt', 'dataset/65_4.txt', 'dataset/65_5.txt', 'dataset/66_1.txt', 'dataset/66_2.txt', 'dataset/66_3.txt', 'dataset/66_4.txt', 'dataset/66_5.txt', 'dataset/67_1.txt', 'dataset/67_2.txt', 'dataset/67_3.txt', 'dataset/67_4.txt', 'dataset/67_5.txt', 'dataset/381_4.txt', 'dataset/382_1.txt', 'dataset/382_4.txt', 'dataset/383_1.txt', 'dataset/383_4.txt', 'dataset/384_1.txt', 'dataset/384_4.txt', 'dataset/385_1.txt', 'dataset/385_4.txt', 'dataset/386_1.txt', 'dataset/386_4.txt', 'dataset/387_1.txt', 'dataset/387_4.txt', 'dataset/388_1.txt', 'dataset/388_4.txt', 'dataset/389_1.txt', 'dataset/389_4.txt', 'dataset/38_1.txt', 'dataset/38_2.txt', 'dataset/38_3.txt', 'dataset/38_4.txt', 'dataset/38_5.txt', 'dataset/390_1.txt', 'dataset/390_4.txt', 'dataset/391_1.txt', 'dataset/391_4.txt', 'dataset/206_2.txt', 'dataset/206_3.txt', 'dataset/206_4.txt', 'dataset/206_5.txt', 'dataset/207_1.txt', 'dataset/207_2.txt', 'dataset/207_3.txt', 'dataset/207_4.txt', 'dataset/207_5.txt', 'dataset/208_1.txt', 'dataset/208_2.txt', 'dataset/208_3.txt', 'dataset/208_4.txt', 'dataset/208_5.txt', 'dataset/209_1.txt', 'dataset/209_2.txt', 'dataset/209_3.txt', 'dataset/209_4.txt', 'dataset/209_5.txt', 'dataset/20_1.txt', 'dataset/20_2.txt', 'dataset/189_3.txt', 'dataset/189_4.txt', 'dataset/189_5.txt', 'dataset/18_1.txt', 'dataset/18_2.txt', 'dataset/18_3.txt', 'dataset/18_4.txt', 'dataset/18_5.txt', 'dataset/190_1.txt', 'dataset/190_2.txt', 'dataset/190_3.txt', 'dataset/190_4.txt', 'dataset/190_5.txt', 'dataset/191_1.txt', 'dataset/191_2.txt', 'dataset/191_3.txt', 'dataset/191_4.txt', 'dataset/191_5.txt', 'dataset/192_1.txt', 'dataset/192_2.txt', 'dataset/192_3.txt', 'dataset/192_4.txt', 'dataset/192_5.txt', 'dataset/193_1.txt', 'dataset/193_2.txt', 'dataset/169_3.txt', 'dataset/169_4.txt', 'dataset/169_5.txt', 'dataset/16_1.txt', 'dataset/16_2.txt', 'dataset/16_3.txt', 'dataset/16_4.txt', 'dataset/16_5.txt', 'dataset/170_1.txt', 'dataset/170_2.txt', 'dataset/170_3.txt', 'dataset/170_4.txt', 'dataset/170_5.txt', 'dataset/171_1.txt', 'dataset/171_2.txt', 'dataset/171_3.txt', 'dataset/171_4.txt', 'dataset/171_5.txt', 'dataset/172_1.txt', 'dataset/172_2.txt', 'dataset/154_2.txt', 'dataset/154_3.txt', 'dataset/154_4.txt', 'dataset/154_5.txt', 'dataset/155_1.txt', 'dataset/155_2.txt', 'dataset/155_3.txt', 'dataset/155_4.txt', 'dataset/155_5.txt', 'dataset/156_1.txt', 'dataset/156_2.txt', 'dataset/156_3.txt', 'dataset/156_4.txt', 'dataset/156_5.txt', 'dataset/157_1.txt', 'dataset/157_2.txt', 'dataset/157_3.txt', 'dataset/157_4.txt', 'dataset/157_5.txt', 'dataset/145_4.txt', 'dataset/145_5.txt', 'dataset/146_1.txt', 'dataset/146_2.txt', 'dataset/146_3.txt', 'dataset/146_4.txt', 'dataset/146_5.txt', 'dataset/147_1.txt', 'dataset/147_2.txt', 'dataset/147_3.txt', 'dataset/147_4.txt', 'dataset/147_5.txt', 'dataset/148_1.txt', 'dataset/148_2.txt', 'dataset/148_3.txt', 'dataset/148_4.txt', 'dataset/148_5.txt', 'dataset/149_1.txt', 'dataset/149_2.txt', 'dataset/131_4.txt', 'dataset/131_5.txt', 'dataset/132_1.txt', 'dataset/132_2.txt', 'dataset/132_3.txt', 'dataset/132_4.txt', 'dataset/132_5.txt', 'dataset/133_1.txt', 'dataset/133_2.txt', 'dataset/133_3.txt', 'dataset/133_4.txt', 'dataset/133_5.txt', 'dataset/134_1.txt', 'dataset/134_2.txt', 'dataset/134_3.txt', 'dataset/134_4.txt', 'dataset/134_5.txt', 'dataset/135_1.txt', 'dataset/135_2.txt', 'dataset/96_5.txt', 'dataset/97_1.txt', 'dataset/97_2.txt', 'dataset/97_3.txt', 'dataset/97_4.txt', 'dataset/97_5.txt', 'dataset/98_1.txt', 'dataset/98_2.txt', 'dataset/98_3.txt', 'dataset/98_4.txt', 'dataset/98_5.txt', 'dataset/99_1.txt', 'dataset/99_2.txt', 'dataset/99_3.txt', 'dataset/99_4.txt', 'dataset/99_5.txt', 'dataset/9_1.txt', 'dataset/9_2.txt', 'dataset/9_3.txt', 'dataset/9_4.txt', 'dataset/9_5.txt', 'dataset/311_3.txt', 'dataset/311_4.txt', 'dataset/312_1.txt', 'dataset/312_3.txt', 'dataset/312_4.txt', 'dataset/313_1.txt', 'dataset/313_3.txt', 'dataset/313_4.txt', 'dataset/314_1.txt', 'dataset/314_3.txt', 'dataset/314_4.txt', 'dataset/315_1.txt', 'dataset/315_3.txt', 'dataset/315_4.txt', 'dataset/316_1.txt', 'dataset/316_3.txt', 'dataset/316_4.txt', 'dataset/317_1.txt', 'dataset/317_3.txt', 'dataset/317_4.txt', 'dataset/318_1.txt', 'dataset/318_4.txt', 'dataset/319_1.txt', 'dataset/319_4.txt', 'dataset/285_5.txt', 'dataset/286_1.txt', 'dataset/286_2.txt', 'dataset/286_3.txt', 'dataset/286_4.txt', 'dataset/286_5.txt', 'dataset/287_1.txt', 'dataset/287_3.txt', 'dataset/287_4.txt', 'dataset/287_5.txt', 'dataset/288_1.txt', 'dataset/288_3.txt', 'dataset/288_4.txt', 'dataset/288_5.txt', 'dataset/289_1.txt', 'dataset/289_3.txt', 'dataset/289_4.txt', 'dataset/289_5.txt', 'dataset/28_1.txt', 'dataset/28_2.txt', 'dataset/28_3.txt', 'dataset/28_4.txt', 'dataset/28_5.txt', 'dataset/47_5.txt', 'dataset/48_1.txt', 'dataset/48_2.txt', 'dataset/48_3.txt', 'dataset/48_4.txt', 'dataset/48_5.txt', 'dataset/49_1.txt', 'dataset/49_2.txt', 'dataset/49_3.txt', 'dataset/49_4.txt', 'dataset/49_5.txt', 'dataset/4_1.txt', 'dataset/4_2.txt', 'dataset/4_3.txt', 'dataset/4_4.txt', 'dataset/4_5.txt', 'dataset/50_1.txt', 'dataset/50_2.txt', 'dataset/50_3.txt', 'dataset/363_4.txt', 'dataset/364_1.txt', 'dataset/364_4.txt', 'dataset/365_1.txt', 'dataset/365_4.txt', 'dataset/366_1.txt', 'dataset/366_4.txt', 'dataset/367_1.txt', 'dataset/367_4.txt', 'dataset/368_1.txt', 'dataset/368_4.txt', 'dataset/369_1.txt', 'dataset/369_4.txt', 'dataset/36_1.txt', 'dataset/36_2.txt', 'dataset/36_3.txt', 'dataset/36_4.txt', 'dataset/36_5.txt', 'dataset/24_3.txt', 'dataset/24_4.txt', 'dataset/24_5.txt', 'dataset/250_1.txt', 'dataset/250_2.txt', 'dataset/250_3.txt', 'dataset/250_4.txt', 'dataset/250_5.txt', 'dataset/251_1.txt', 'dataset/251_2.txt', 'dataset/251_3.txt', 'dataset/251_4.txt', 'dataset/251_5.txt', 'dataset/252_1.txt', 'dataset/252_2.txt', 'dataset/252_3.txt', 'dataset/252_4.txt', 'dataset/252_5.txt', 'dataset/253_1.txt', 'dataset/270_4.txt', 'dataset/270_5.txt', 'dataset/271_1.txt', 'dataset/271_2.txt', 'dataset/271_3.txt', 'dataset/271_4.txt', 'dataset/271_5.txt', 'dataset/272_1.txt', 'dataset/272_2.txt', 'dataset/272_3.txt', 'dataset/272_4.txt', 'dataset/272_5.txt', 'dataset/273_1.txt', 'dataset/273_2.txt', 'dataset/273_3.txt', 'dataset/273_4.txt', 'dataset/273_5.txt', 'dataset/274_1.txt', 'dataset/274_2.txt', 'dataset/274_3.txt', 'dataset/258_1.txt', 'dataset/258_2.txt', 'dataset/258_3.txt', 'dataset/258_4.txt', 'dataset/258_5.txt', 'dataset/259_1.txt', 'dataset/259_2.txt', 'dataset/259_3.txt', 'dataset/259_4.txt', 'dataset/259_5.txt', 'dataset/25_1.txt', 'dataset/25_2.txt', 'dataset/25_3.txt', 'dataset/25_4.txt', 'dataset/25_5.txt', 'dataset/260_1.txt', 'dataset/260_2.txt', 'dataset/260_3.txt', 'dataset/198_1.txt', 'dataset/198_2.txt', 'dataset/198_3.txt', 'dataset/198_4.txt', 'dataset/198_5.txt', 'dataset/199_1.txt', 'dataset/199_2.txt', 'dataset/199_3.txt', 'dataset/199_4.txt', 'dataset/199_5.txt', 'dataset/19_1.txt', 'dataset/19_2.txt', 'dataset/19_3.txt', 'dataset/19_4.txt', 'dataset/19_5.txt', 'dataset/1_1.txt', 'dataset/1_2.txt', 'dataset/1_3.txt', 'dataset/1_4.txt', 'dataset/1_5.txt']\n"
     ]
    }
   ],
   "source": [
    "def get_data(path):\n",
    "    files = glob.glob(path)\n",
    "    cols = ['text', 'label']\n",
    "    df = pd.DataFrame(columns = cols)\n",
    "    #print(df)\n",
    "    df_list = []\n",
    "    for file in files:\n",
    "        f = open(file, mode = 'r', errors = 'ignore')\n",
    "        txt_data = f.read()\n",
    "        txt_data = ''.join([i if ord(i) < 128 else ' ' for i in txt_data])\n",
    "        name_split = file.split('.')\n",
    "        name_split = name_split[0].split('_')\n",
    "        label = int(name_split[1])\n",
    "        df_list.append([txt_data, label])\n",
    "        f.close()\n",
    "    df2 = pd.DataFrame(df_list, columns = cols)\n",
    "    df = df.append(df2)\n",
    "    return df"
   ]
  },
  {
   "cell_type": "code",
   "execution_count": 3,
   "metadata": {},
   "outputs": [
    {
     "name": "stdout",
     "output_type": "stream",
     "text": [
      "<bound method Series.unique of 0       4\n",
      "1       1\n",
      "2       2\n",
      "3       3\n",
      "4       4\n",
      "       ..\n",
      "1720    1\n",
      "1721    2\n",
      "1722    3\n",
      "1723    4\n",
      "1724    5\n",
      "Name: label, Length: 1725, dtype: object>\n"
     ]
    }
   ],
   "source": [
    "df = get_data('dataset/*.txt')\n",
    "\n",
    "text_np = df['text'].to_numpy()\n",
    "label_np = df['label'].to_numpy()\n",
    "Train_X, Test_X, Train_Y, Test_Y = train_test_split(text_np,label_np,test_size=0.2, random_state=42)"
   ]
  },
  {
   "cell_type": "code",
   "execution_count": 6,
   "metadata": {},
   "outputs": [],
   "source": [
    "## Encode label\n",
    "Encoder = LabelEncoder()\n",
    "Train_Y = Encoder.fit_transform(Train_Y)\n",
    "Test_Y = Encoder.fit_transform(Test_Y)"
   ]
  },
  {
   "cell_type": "code",
   "execution_count": 7,
   "metadata": {},
   "outputs": [],
   "source": [
    "tfidf_vectorizer=TfidfVectorizer(stop_words='english')#, preprocessor=my_preprocessor, tokenizer=my_tokenizer)#, ngram_range=(1,2),\n",
    "                             #)\n",
    "Train_X_Tfidf=tfidf_vectorizer.fit_transform(Train_X)\n",
    "\n",
    "Test_X_Tfidf = tfidf_vectorizer.transform(Test_X)"
   ]
  },
  {
   "cell_type": "code",
   "execution_count": 8,
   "metadata": {
    "scrolled": true
   },
   "outputs": [],
   "source": [
    "import spacy\n",
    "from html import unescape\n",
    "\n",
    "# create a spaCy tokenizer\n",
    "spacy.load('en')\n",
    "lemmatizer = spacy.lang.en.English()\n",
    "\n",
    "# remove html entities from docs and\n",
    "# set everything to lowercase\n",
    "def my_preprocessor(doc):\n",
    "    return(unescape(doc).lower())\n",
    "\n",
    "# tokenize the doc and lemmatize its tokens\n",
    "def my_tokenizer(doc):\n",
    "    tokens = lemmatizer(doc)\n",
    "    return([token.lemma_ for token in tokens])"
   ]
  },
  {
   "cell_type": "code",
   "execution_count": 32,
   "metadata": {},
   "outputs": [
    {
     "name": "stdout",
     "output_type": "stream",
     "text": [
      "<class 'scipy.sparse.csr.csr_matrix'>\n"
     ]
    }
   ],
   "source": [
    "\n",
    "print(type(Train_X_Tfidf[0,:]))"
   ]
  },
  {
   "cell_type": "code",
   "execution_count": 127,
   "metadata": {},
   "outputs": [
    {
     "data": {
      "text/html": [
       "<div>\n",
       "<style scoped>\n",
       "    .dataframe tbody tr th:only-of-type {\n",
       "        vertical-align: middle;\n",
       "    }\n",
       "\n",
       "    .dataframe tbody tr th {\n",
       "        vertical-align: top;\n",
       "    }\n",
       "\n",
       "    .dataframe thead th {\n",
       "        text-align: right;\n",
       "    }\n",
       "</style>\n",
       "<table border=\"1\" class=\"dataframe\">\n",
       "  <thead>\n",
       "    <tr style=\"text-align: right;\">\n",
       "      <th></th>\n",
       "      <th>tfidf</th>\n",
       "    </tr>\n",
       "  </thead>\n",
       "  <tbody>\n",
       "    <tr>\n",
       "      <th>gene</th>\n",
       "      <td>0.317578</td>\n",
       "    </tr>\n",
       "    <tr>\n",
       "      <th>the</th>\n",
       "      <td>0.269123</td>\n",
       "    </tr>\n",
       "    <tr>\n",
       "      <th>blue</th>\n",
       "      <td>0.240635</td>\n",
       "    </tr>\n",
       "    <tr>\n",
       "      <th>supercomputer</th>\n",
       "      <td>0.190547</td>\n",
       "    </tr>\n",
       "    <tr>\n",
       "      <th>machine</th>\n",
       "      <td>0.178051</td>\n",
       "    </tr>\n",
       "    <tr>\n",
       "      <th>...</th>\n",
       "      <td>...</td>\n",
       "    </tr>\n",
       "    <tr>\n",
       "      <th>eradicate</th>\n",
       "      <td>0.000000</td>\n",
       "    </tr>\n",
       "    <tr>\n",
       "      <th>era</th>\n",
       "      <td>0.000000</td>\n",
       "    </tr>\n",
       "    <tr>\n",
       "      <th>equivalents</th>\n",
       "      <td>0.000000</td>\n",
       "    </tr>\n",
       "    <tr>\n",
       "      <th>equivalent</th>\n",
       "      <td>0.000000</td>\n",
       "    </tr>\n",
       "    <tr>\n",
       "      <th>zvyagintsev</th>\n",
       "      <td>0.000000</td>\n",
       "    </tr>\n",
       "  </tbody>\n",
       "</table>\n",
       "<p>24024 rows × 1 columns</p>\n",
       "</div>"
      ],
      "text/plain": [
       "                  tfidf\n",
       "gene           0.317578\n",
       "the            0.269123\n",
       "blue           0.240635\n",
       "supercomputer  0.190547\n",
       "machine        0.178051\n",
       "...                 ...\n",
       "eradicate      0.000000\n",
       "era            0.000000\n",
       "equivalents    0.000000\n",
       "equivalent     0.000000\n",
       "zvyagintsev    0.000000\n",
       "\n",
       "[24024 rows x 1 columns]"
      ]
     },
     "execution_count": 127,
     "metadata": {},
     "output_type": "execute_result"
    }
   ],
   "source": [
    "first_vector_tfidfvectorizer=Train_X_Tfidf[0]\n",
    "df = pd.DataFrame(first_vector_tfidfvectorizer.T.todense(), index=tfidf_vectorizer.get_feature_names(), columns=[\"tfidf\"])\n",
    "df.sort_values(by=[\"tfidf\"],ascending=False)"
   ]
  },
  {
   "cell_type": "code",
   "execution_count": 97,
   "metadata": {},
   "outputs": [],
   "source": []
  },
  {
   "cell_type": "code",
   "execution_count": 98,
   "metadata": {},
   "outputs": [
    {
     "ename": "SyntaxError",
     "evalue": "invalid syntax (<ipython-input-98-b3eb8d46d9f9>, line 31)",
     "output_type": "error",
     "traceback": [
      "\u001b[0;36m  File \u001b[0;32m\"<ipython-input-98-b3eb8d46d9f9>\"\u001b[0;36m, line \u001b[0;32m31\u001b[0m\n\u001b[0;31m    for i in range(self)\u001b[0m\n\u001b[0m                        ^\u001b[0m\n\u001b[0;31mSyntaxError\u001b[0m\u001b[0;31m:\u001b[0m invalid syntax\n"
     ]
    }
   ],
   "source": [
    "def pdf(data, mu, cov, dim):\n",
    "        data_np = np.array(data)\n",
    "        cov_inv= inv(cov)\n",
    "        u = np.dot((data_np - mu).T, cov_inv)\n",
    "        u = np.dot(u,(data_np - mu))\n",
    "        u = u/2\n",
    "        cov_det = abs(np.linalg.det(cov))\n",
    "        y1 = (1 / (pow(2 * pi, dim/2)*pow(cov_det,1/2)))*exp(-1/2 * np.dot(np.dot((data_np-mu).T, np.linalg.inv(cov)), (data_np-mu)))\n",
    "        #y2 = 1/pow((2*pi), -dim/2) * pow(abs(np.linalg.det(cov)), -1/2) * \\\n",
    "        #            np.exp(-1/2 * np.dot(np.dot((data_np-mu).T, np.linalg.inv(cov)), (data_np-mu)))\n",
    "        return y\n",
    "    \n",
    "def E_step(self):\n",
    "    likelihood = []\n",
    "    like_sum = []\n",
    "    for gauss in range(self.k):\n",
    "        y = pdf(self.data, self.mu[gauss], self.cov[guass], self.dim)\n",
    "        tmp_like = [y[i]*self.pi[gauss] for i in range(self.N)]\n",
    "        if gauss == 0:\n",
    "            like_sum = tmp_like\n",
    "        else:\n",
    "            like_sum = np.add(like_sum, tmp_like)\n",
    "        likelihood.append(tmp_like)\n",
    "    for i in range(k):\n",
    "        likelihood[i] = np.divide(likelihood, like_sum)\n",
    "        \n",
    "def M_step():\n",
    "    likelihood = [[1,2,3,4,5], [6,7,8,9,10], [2,4,6,8,10]]\n",
    "    likelihood_sum = [sum(like) for like in likelihood]\n",
    "    \n",
    "    for i in range(self)\n",
    "        self.pi = likelihood_sum[i]/self.N"
   ]
  },
  {
   "cell_type": "code",
   "execution_count": null,
   "metadata": {},
   "outputs": [],
   "source": [
    "gmm_obj = GMM()"
   ]
  },
  {
   "cell_type": "code",
   "execution_count": 50,
   "metadata": {},
   "outputs": [
    {
     "name": "stdout",
     "output_type": "stream",
     "text": [
      "[[1, 2, 3], [1, 2, 3], [1, 2, 3], [1, 2, 3], [1, 2, 3]]\n"
     ]
    }
   ],
   "source": []
  },
  {
   "cell_type": "code",
   "execution_count": 58,
   "metadata": {},
   "outputs": [
    {
     "name": "stdout",
     "output_type": "stream",
     "text": [
      "[[[[0.33333333 0.33333333 0.33333333]\n",
      "   [0.33333333 0.33333333 0.33333333]\n",
      "   [0.33333333 0.33333333 0.33333333]\n",
      "   [0.33333333 0.33333333 0.33333333]\n",
      "   [0.33333333 0.33333333 0.33333333]]]\n",
      "\n",
      "\n",
      " [[[0.33333333 0.33333333 0.33333333]\n",
      "   [0.33333333 0.33333333 0.33333333]\n",
      "   [0.33333333 0.33333333 0.33333333]\n",
      "   [0.33333333 0.33333333 0.33333333]\n",
      "   [0.33333333 0.33333333 0.33333333]]]\n",
      "\n",
      "\n",
      " [[[0.33333333 0.33333333 0.33333333]\n",
      "   [0.33333333 0.33333333 0.33333333]\n",
      "   [0.33333333 0.33333333 0.33333333]\n",
      "   [0.33333333 0.33333333 0.33333333]\n",
      "   [0.33333333 0.33333333 0.33333333]]]]\n"
     ]
    },
    {
     "ename": "TypeError",
     "evalue": "unsupported operand type(s) for /: 'list' and 'int'",
     "output_type": "error",
     "traceback": [
      "\u001b[0;31m---------------------------------------------------------------------------\u001b[0m",
      "\u001b[0;31mTypeError\u001b[0m                                 Traceback (most recent call last)",
      "\u001b[0;32m<ipython-input-58-11e6ae978535>\u001b[0m in \u001b[0;36m<module>\u001b[0;34m\u001b[0m\n\u001b[1;32m      9\u001b[0m     \u001b[0mfinal\u001b[0m\u001b[0;34m.\u001b[0m\u001b[0mappend\u001b[0m\u001b[0;34m(\u001b[0m\u001b[0mtmp_mat\u001b[0m\u001b[0;34m)\u001b[0m\u001b[0;34m\u001b[0m\u001b[0;34m\u001b[0m\u001b[0m\n\u001b[1;32m     10\u001b[0m \u001b[0;32mfor\u001b[0m \u001b[0mi\u001b[0m \u001b[0;32min\u001b[0m \u001b[0mrange\u001b[0m\u001b[0;34m(\u001b[0m\u001b[0;36m3\u001b[0m\u001b[0;34m)\u001b[0m\u001b[0;34m:\u001b[0m\u001b[0;34m\u001b[0m\u001b[0;34m\u001b[0m\u001b[0m\n\u001b[0;32m---> 11\u001b[0;31m         \u001b[0mfinal\u001b[0m\u001b[0;34m[\u001b[0m\u001b[0mi\u001b[0m\u001b[0;34m]\u001b[0m \u001b[0;34m=\u001b[0m \u001b[0mnp\u001b[0m\u001b[0;34m.\u001b[0m\u001b[0mdivide\u001b[0m\u001b[0;34m(\u001b[0m\u001b[0mfinal\u001b[0m\u001b[0;34m,\u001b[0m \u001b[0mtmp\u001b[0m\u001b[0;34m)\u001b[0m\u001b[0;34m\u001b[0m\u001b[0;34m\u001b[0m\u001b[0m\n\u001b[0m\u001b[1;32m     12\u001b[0m         \u001b[0mprint\u001b[0m\u001b[0;34m(\u001b[0m\u001b[0mfinal\u001b[0m\u001b[0;34m[\u001b[0m\u001b[0mi\u001b[0m\u001b[0;34m]\u001b[0m\u001b[0;34m)\u001b[0m\u001b[0;34m\u001b[0m\u001b[0;34m\u001b[0m\u001b[0m\n\u001b[1;32m     13\u001b[0m \u001b[0mprint\u001b[0m\u001b[0;34m(\u001b[0m\u001b[0mtmp\u001b[0m\u001b[0;34m)\u001b[0m\u001b[0;34m\u001b[0m\u001b[0;34m\u001b[0m\u001b[0m\n",
      "\u001b[0;31mTypeError\u001b[0m: unsupported operand type(s) for /: 'list' and 'int'"
     ]
    }
   ],
   "source": []
  },
  {
   "cell_type": "code",
   "execution_count": 37,
   "metadata": {},
   "outputs": [
    {
     "name": "stdout",
     "output_type": "stream",
     "text": [
      "[[0.32332075177421404, 0.5933503830748696, 0.33071384707467344], [0.42331729516833405, 0.10606216602493675, 0.7404151143786644], [0.14528818083059314, 0.8802537723694497, 0.3824366561452819]]\n"
     ]
    }
   ],
   "source": [
    "var_i = [[random.uniform(0.1, 1) for i in range(3)] for _ in range(3)]\n",
    "print(var_i)"
   ]
  },
  {
   "cell_type": "code",
   "execution_count": 83,
   "metadata": {},
   "outputs": [
    {
     "name": "stdout",
     "output_type": "stream",
     "text": [
      "[[ 16  32  48  64  80]\n",
      " [ 32  64  96 128 160]\n",
      " [ 48  96 144 192 240]\n",
      " [ 64 128 192 256 320]\n",
      " [ 80 160 240 320 400]]\n"
     ]
    }
   ],
   "source": [
    "print(np.multiply(4,y))"
   ]
  },
  {
   "cell_type": "code",
   "execution_count": 44,
   "metadata": {},
   "outputs": [
    {
     "ename": "MemoryError",
     "evalue": "Unable to allocate array with shape (5, 24141, 24141) and data type float64",
     "output_type": "error",
     "traceback": [
      "\u001b[0;31m---------------------------------------------------------------------------\u001b[0m",
      "\u001b[0;31mMemoryError\u001b[0m                               Traceback (most recent call last)",
      "\u001b[0;32m<ipython-input-44-f0064ba0b310>\u001b[0m in \u001b[0;36m<module>\u001b[0;34m\u001b[0m\n\u001b[0;32m----> 1\u001b[0;31m \u001b[0my\u001b[0m \u001b[0;34m=\u001b[0m \u001b[0mnp\u001b[0m\u001b[0;34m.\u001b[0m\u001b[0mrandom\u001b[0m\u001b[0;34m.\u001b[0m\u001b[0muniform\u001b[0m\u001b[0;34m(\u001b[0m\u001b[0;36m0.1\u001b[0m\u001b[0;34m,\u001b[0m \u001b[0;36m1\u001b[0m\u001b[0;34m,\u001b[0m \u001b[0;34m(\u001b[0m\u001b[0;36m5\u001b[0m\u001b[0;34m,\u001b[0m\u001b[0;36m24141\u001b[0m\u001b[0;34m,\u001b[0m\u001b[0;36m24141\u001b[0m\u001b[0;34m)\u001b[0m\u001b[0;34m)\u001b[0m\u001b[0;34m\u001b[0m\u001b[0;34m\u001b[0m\u001b[0m\n\u001b[0m\u001b[1;32m      2\u001b[0m \u001b[0mprint\u001b[0m\u001b[0;34m(\u001b[0m\u001b[0my\u001b[0m\u001b[0;34m)\u001b[0m\u001b[0;34m\u001b[0m\u001b[0;34m\u001b[0m\u001b[0m\n",
      "\u001b[0;32mmtrand.pyx\u001b[0m in \u001b[0;36mnumpy.random.mtrand.RandomState.uniform\u001b[0;34m()\u001b[0m\n",
      "\u001b[0;32mcommon.pyx\u001b[0m in \u001b[0;36mnumpy.random.common.cont\u001b[0;34m()\u001b[0m\n",
      "\u001b[0;31mMemoryError\u001b[0m: Unable to allocate array with shape (5, 24141, 24141) and data type float64"
     ]
    }
   ],
   "source": [
    "y = np.random.uniform(0.1, 1, (5,24141,24141))\n",
    "print(y)"
   ]
  },
  {
   "cell_type": "code",
   "execution_count": 87,
   "metadata": {},
   "outputs": [
    {
     "name": "stdout",
     "output_type": "stream",
     "text": [
      "[[ 3  6  9]\n",
      " [12 15 18]]\n"
     ]
    }
   ],
   "source": [
    "lis = [[1,2,3],[4,5,6]]\n",
    "d = [[2,4,6],[8,10,12]]\n",
    "\n",
    "x = np.add(np.array(lis),np.array(d))\n",
    "print(x)"
   ]
  },
  {
   "cell_type": "code",
   "execution_count": null,
   "metadata": {},
   "outputs": [],
   "source": [
    "class KMeans:\n",
    "    def __init__(self, k, data, iterate):\n",
    "        self.dim = np.shape(data)[1] #assuming data stored row-wise\n",
    "        self.k = k\n",
    "        self.N = np.shape(data)[0]\n",
    "        self.data = data\n",
    "        self.iterations = iterate\n",
    "        self.centroids = [ data[np.random.random_integers(0, self.N-1) for _ in range(self.k)]\n",
    "        pred_cluster = [-1]*self.N\n",
    "                          \n",
    "    def cluster():\n",
    "        pred_cluster = []\n",
    "        sum_for_mean = [np.zeros(self.dim)]*self.k\n",
    "        pred_count = [np.zeros(self.k)]\n",
    "        for i in range(self.N):\n",
    "            min_dist = float(\"inf\")\n",
    "            min_dist_cluster = \n",
    "            for j in range(self.k):\n",
    "                dist = self.data[i] - centroid[j]\n",
    "                dist_sqrt = sqrt(np.dot(dist,dist))\n",
    "                if dist_sq < min_dist:\n",
    "                    min_dist = dist_sq\n",
    "                    min_dist_cluster = j\n",
    "            sum_for_mean[min_dist_cluster] = np.add(sum_for_mean[min_dist_cluster], self.data[i])\n",
    "            pred_count[min_dist_cluster] += 1\n",
    "            pred_cluster.append(min_dist_cluster)\n",
    "        for i in range(self.k):\n",
    "            self.centroid[i] = np.divide(sum_for_mean[i], pred_count[i])\n",
    "        return pred_cluster\n",
    "    def run():\n",
    "        for i in range(self.iterations):\n",
    "            self.pred_cluster = cluster()"
   ]
  },
  {
   "cell_type": "code",
   "execution_count": 11,
   "metadata": {},
   "outputs": [
    {
     "name": "stdout",
     "output_type": "stream",
     "text": [
      "[-1, -1, -1, -1, -1, -1, -1, -1, -1, -1]\n",
      "[1. 1. 1. 1. 1. 1. 1. 1. 1. 1.]\n"
     ]
    }
   ],
   "source": [
    "y = [np.zeros(10)]*3\n",
    "z = [np.ones(10)]*3\n",
    "summ = np.add(y[0], z[0])\n",
    "a = [-1]*10\n",
    "print(a)\n",
    "print(summ)"
   ]
  },
  {
   "cell_type": "code",
   "execution_count": 12,
   "metadata": {},
   "outputs": [
    {
     "name": "stdout",
     "output_type": "stream",
     "text": [
      "6\n"
     ]
    }
   ],
   "source": [
    "z =random.randint(0,10)\n",
    "print(z)"
   ]
  },
  {
   "cell_type": "code",
   "execution_count": null,
   "metadata": {},
   "outputs": [],
   "source": []
  }
 ],
 "metadata": {
  "kernelspec": {
   "display_name": "Python 3",
   "language": "python",
   "name": "python3"
  },
  "language_info": {
   "codemirror_mode": {
    "name": "ipython",
    "version": 3
   },
   "file_extension": ".py",
   "mimetype": "text/x-python",
   "name": "python",
   "nbconvert_exporter": "python",
   "pygments_lexer": "ipython3",
   "version": "3.6.9"
  }
 },
 "nbformat": 4,
 "nbformat_minor": 2
}
