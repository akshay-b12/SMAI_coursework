{
 "cells": [
  {
   "cell_type": "markdown",
   "metadata": {},
   "source": []
  },
  {
   "cell_type": "code",
   "execution_count": 1,
   "metadata": {},
   "outputs": [],
   "source": [
    "import numpy as np\n",
    "import cv2\n",
    "import glob\n",
    "from MyPCA import MyPCA\n",
    "from sklearn.model_selection import train_test_split"
   ]
  },
  {
   "cell_type": "code",
   "execution_count": 2,
   "metadata": {},
   "outputs": [],
   "source": [
    "class LogisticRegression:\n",
    "    def __init__(self, learn_rate = 0.001, num_iters = 100):\n",
    "        self.learning_rate = learn_rate\n",
    "        self.n_iters = num_iters\n",
    "        self.weights = None\n",
    "        self.bias = None\n",
    "        \n",
    "    def train(self, data, labels):\n",
    "        self.data = self.add_bias_col(data)\n",
    "        self.n_samples, self.n_features = self.data.shape \n",
    "        self.classes = np.unique(labels)\n",
    "        self.class_labels = {c:i for i,c in enumerate(self.classes)}\n",
    "        labels = self.one_hot_encode(labels)\n",
    "        self.weights = np.zeros(shape=(len(self.classes),self.data.shape[1]))\n",
    "        for _ in range(self.n_iters):\n",
    "            y = np.dot(self.data, self.weights.T).reshape(-1,len(self.classes)) ## y = m*x + c\n",
    "            ## apply softmax\n",
    "            y_predicted = self.softmax(y)\n",
    "            #y_predicted = self.sigmoidfn(y)\n",
    "            \n",
    "            # compute gradients\n",
    "            dw = np.dot((y_predicted - labels).T, self.data)\n",
    "            # update parameters\n",
    "            self.weights -= self.learning_rate * dw\n",
    "        print(self.weights)\n",
    "    \n",
    "    def add_bias_col(self,X):\n",
    "        return np.insert(X, 0, 1, axis=1)\n",
    "    \n",
    "    def one_hot_encode(self, y):\n",
    "        return np.eye(len(self.classes))[np.vectorize(lambda c: self.class_labels[c])(y).reshape(-1)]\n",
    "    '''\n",
    "    def predict(self, X):\n",
    "        linear_model = np.dot(X, self.weights) + self.bias\n",
    "        y_predicted = self._sigmoid(linear_model)\n",
    "        y_predicted_cls = [1 if i > 0.5 else 0 for i in y_predicted]\n",
    "        return np.array(y_predicted_cls)\n",
    "    '''\n",
    "    def softmax(self, z):\n",
    "        return np.exp(z) / np.sum(np.exp(z), axis=1).reshape(-1,1)\n",
    "    \n",
    "    def predict(self, X, y):\n",
    "        X = self.add_bias_col(X)\n",
    "        pred_vals = np.dot(X, self.weights.T).reshape(-1,len(self.classes))\n",
    "        self.probs_ = self.softmax(pred_vals)\n",
    "        pred_classes = np.vectorize(lambda c: self.classes[c])(np.argmax(self.probs_, axis=1))\n",
    "        return np.mean(pred_classes == y)"
   ]
  },
  {
   "cell_type": "code",
   "execution_count": 6,
   "metadata": {},
   "outputs": [
    {
     "name": "stdout",
     "output_type": "stream",
     "text": [
      "4096\n",
      "(520, 4096)\n",
      "(520, 4096)\n",
      "[0, 0, 0, 0, 0, 0, 0, 0, 0, 0, 0, 0, 0, 0, 0, 0, 0, 0, 0, 7, 7, 7, 7, 7, 7, 7, 7, 7, 7, 7, 7, 7, 7, 7, 7, 7, 7, 7, 7, 7, 7, 7, 7, 7, 7, 7, 7, 7, 7, 7, 7, 7, 7, 7, 7, 7, 7, 7, 7, 7, 0, 0, 0, 0, 0, 0, 0, 0, 0, 0, 0, 0, 0, 0, 0, 0, 0, 0, 0, 0, 0, 0, 0, 0, 0, 0, 0, 0, 0, 0, 0, 0, 0, 0, 0, 0, 0, 0, 0, 0, 0, 1, 1, 1, 2, 2, 2, 3, 3, 3, 3, 4, 4, 4, 5, 5, 5, 6, 6, 6, 7, 7, 0, 0, 0, 0, 0, 1, 1, 1, 1, 1, 1, 1, 1, 1, 1, 1, 1, 1, 1, 1, 1, 1, 1, 1, 1, 1, 1, 1, 1, 1, 1, 1, 1, 1, 1, 1, 1, 1, 1, 1, 1, 1, 1, 1, 1, 1, 1, 1, 1, 1, 1, 1, 1, 1, 1, 1, 1, 1, 1, 1, 1, 1, 1, 1, 1, 1, 1, 2, 2, 2, 2, 2, 2, 2, 2, 2, 2, 2, 2, 2, 2, 2, 2, 2, 2, 2, 2, 2, 2, 2, 2, 2, 2, 2, 2, 2, 2, 2, 2, 2, 2, 2, 2, 2, 2, 2, 2, 2, 2, 2, 2, 2, 2, 2, 2, 2, 2, 2, 2, 2, 2, 2, 2, 2, 2, 2, 2, 2, 2, 3, 3, 3, 3, 3, 3, 3, 3, 3, 3, 3, 3, 3, 3, 3, 3, 3, 3, 3, 3, 3, 3, 3, 3, 3, 3, 3, 3, 3, 3, 3, 3, 3, 3, 3, 3, 3, 3, 3, 3, 3, 3, 3, 3, 3, 3, 3, 3, 3, 3, 3, 3, 3, 3, 3, 3, 3, 3, 3, 3, 3, 4, 4, 4, 4, 4, 4, 4, 4, 4, 4, 4, 4, 4, 4, 4, 4, 4, 4, 4, 4, 4, 4, 4, 4, 4, 4, 4, 4, 4, 4, 4, 4, 4, 4, 4, 4, 4, 4, 4, 4, 4, 4, 4, 4, 4, 4, 4, 4, 4, 4, 4, 4, 4, 4, 4, 4, 4, 4, 4, 4, 4, 4, 5, 5, 5, 5, 5, 5, 5, 5, 5, 5, 5, 5, 5, 5, 5, 5, 5, 5, 5, 5, 5, 5, 5, 5, 5, 5, 5, 5, 5, 5, 5, 5, 5, 5, 5, 5, 5, 5, 5, 5, 5, 5, 5, 5, 5, 5, 5, 5, 5, 5, 5, 5, 5, 5, 5, 5, 5, 5, 5, 5, 5, 5, 6, 6, 6, 6, 6, 6, 6, 6, 6, 6, 6, 6, 6, 6, 6, 6, 6, 6, 6, 6, 6, 6, 6, 6, 6, 6, 6, 6, 6, 6, 6, 6, 6, 6, 6, 6, 6, 6, 6, 6, 6, 6, 6, 6, 6, 6, 6, 6, 6, 6, 6, 6, 6, 6, 6, 6, 6, 6, 6, 6, 6, 6, 7, 7, 7, 7, 7, 7, 7, 7, 7, 7, 7, 7, 7, 7, 7, 7, 7, 7, 7, 7, 7, 7]\n"
     ]
    }
   ],
   "source": [
    "def read_data(path):\n",
    "        img_files = glob.glob(path)\n",
    "        #print(img_files)\n",
    "        gray_images = []\n",
    "        labels = []\n",
    "        for file in img_files:\n",
    "            img = cv2.imread(file)\n",
    "            img = cv2.resize(img,(64,64),interpolation=cv2.INTER_AREA) #None,fx=0.5,fy=0.5\n",
    "            flat_img = cv2.cvtColor(img, cv2.COLOR_BGR2GRAY).flatten()\n",
    "            gray_images.append(flat_img)\n",
    "            lab = ((file.split('/')[-1]).split('_')[0]).lstrip('0')\n",
    "            if not lab:\n",
    "                labels.append(0)\n",
    "            else :\n",
    "                labels.append(int(lab))\n",
    "        return np.asarray(gray_images), labels\n",
    "    \n",
    "data, labels = read_data(\"./dataset/*\")\n",
    "pca = MyPCA(n_components = 0.8)\n",
    "data = pca.fit(data)\n",
    "print(data.shape)\n",
    "print(labels)"
   ]
  },
  {
   "cell_type": "code",
   "execution_count": 5,
   "metadata": {},
   "outputs": [
    {
     "name": "stdout",
     "output_type": "stream",
     "text": [
      "(416, 4096) (104, 4096) (416,)\n",
      "[[-1.57850475e-02  9.95677569e-15  1.18620220e-14 ...  3.13691784e-01\n",
      "   7.82973391e-02 -1.59373176e-01]\n",
      " [ 4.72893853e-01 -2.33775333e-14 -6.00215448e-14 ... -5.91954293e-02\n",
      "   1.92096658e-01  2.29958730e-02]\n",
      " [-1.68166905e-01  5.93023780e-15  7.51430982e-15 ... -2.08863988e-01\n",
      "  -1.61255961e-02 -1.12150173e-01]\n",
      " ...\n",
      " [ 1.10973531e-01 -2.77852312e-14 -6.98699429e-15 ... -3.08008345e-01\n",
      "   8.12316300e-02  1.70591496e-01]\n",
      " [-6.45200420e-01  3.33977355e-14  3.55255429e-14 ...  1.01410024e-01\n",
      "   1.06618356e-02 -1.44772117e-01]\n",
      " [ 1.27572793e-01 -1.33444928e-14  1.25060966e-14 ...  4.77806290e-01\n",
      "  -2.76736415e-01 -6.77700393e-03]]\n",
      "0.7692307692307693\n"
     ]
    }
   ],
   "source": [
    "def test_train_split(data,labels, percent = 0.8):\n",
    "    train_size = int(np.shape(data)[0]*percent)/len(np.unique(labels))\n",
    "    print(train_size)\n",
    "    label_count = np.zeros(len(np.unique(labels)))\n",
    "    train_X, test_X, train_y, test_y = [], [], [], []\n",
    "    for i in range(len(data)):\n",
    "        if label_count[labels[i]] < train_size:\n",
    "            train_X.append(data[i])\n",
    "            train_y.append(labels[i])\n",
    "            label_count[labels[i]]+=1\n",
    "        else:\n",
    "            test_X.append(data[i])\n",
    "            test_y.append(labels[i])\n",
    "    return train_X, test_X, train_y, test_y\n",
    "\n",
    "#train_X, test_X, train_y, test_y = test_train_split(data,labels, percent = 0.8)\n",
    "train_X, test_X, train_y, test_y = train_test_split(data, labels, train_size=0.8, random_state=666)\n",
    "print(np.shape(train_X), np.shape(test_X), np.shape(train_y))\n",
    "logreg = LogisticRegression()\n",
    "logreg.train(np.asarray(train_X), np.asarray(train_y))\n",
    "print(logreg.predict(np.asarray(test_X), np.asarray(test_y)))"
   ]
  },
  {
   "cell_type": "code",
   "execution_count": null,
   "metadata": {},
   "outputs": [],
   "source": []
  }
 ],
 "metadata": {
  "kernelspec": {
   "display_name": "Python 3",
   "language": "python",
   "name": "python3"
  },
  "language_info": {
   "codemirror_mode": {
    "name": "ipython",
    "version": 3
   },
   "file_extension": ".py",
   "mimetype": "text/x-python",
   "name": "python",
   "nbconvert_exporter": "python",
   "pygments_lexer": "ipython3",
   "version": "3.6.9"
  }
 },
 "nbformat": 4,
 "nbformat_minor": 2
}
