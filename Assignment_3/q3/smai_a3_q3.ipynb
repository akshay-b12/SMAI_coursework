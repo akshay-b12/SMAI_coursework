{
 "cells": [
  {
   "cell_type": "markdown",
   "metadata": {
    "colab_type": "text",
    "id": "krKOaO6HvgDB"
   },
   "source": [
    "# Q-3 MNIST Classification\n",
    "\n",
    "\n",
    "*   Akshay Bankar (2019201011)\n",
    "\n",
    "\n",
    "## Classificaton using linear SVM\n"
   ]
  },
  {
   "cell_type": "code",
   "execution_count": 0,
   "metadata": {
    "colab": {},
    "colab_type": "code",
    "id": "1cnYgn66vgDE",
    "outputId": "64fce8ef-4b8f-476a-bd79-1de6538027ee"
   },
   "outputs": [
    {
     "name": "stdout",
     "output_type": "stream",
     "text": [
      "Classification report for classifier SVC(C=1.0, break_ties=False, cache_size=200, class_weight=None, coef0=0.0,\n",
      "    decision_function_shape='ovr', degree=3, gamma=0.001, kernel='rbf',\n",
      "    max_iter=-1, probability=False, random_state=None, shrinking=True,\n",
      "    tol=0.001, verbose=False):\n",
      "              precision    recall  f1-score   support\n",
      "\n",
      "           0       1.00      0.99      0.99        88\n",
      "           1       0.99      0.97      0.98        91\n",
      "           2       0.99      0.99      0.99        86\n",
      "           3       0.98      0.87      0.92        91\n",
      "           4       0.99      0.96      0.97        92\n",
      "           5       0.95      0.97      0.96        91\n",
      "           6       0.99      0.99      0.99        91\n",
      "           7       0.96      0.99      0.97        89\n",
      "           8       0.94      1.00      0.97        88\n",
      "           9       0.93      0.98      0.95        92\n",
      "\n",
      "    accuracy                           0.97       899\n",
      "   macro avg       0.97      0.97      0.97       899\n",
      "weighted avg       0.97      0.97      0.97       899\n",
      "\n",
      "\n",
      "Confusion matrix:\n",
      "[[87  0  0  0  1  0  0  0  0  0]\n",
      " [ 0 88  1  0  0  0  0  0  1  1]\n",
      " [ 0  0 85  1  0  0  0  0  0  0]\n",
      " [ 0  0  0 79  0  3  0  4  5  0]\n",
      " [ 0  0  0  0 88  0  0  0  0  4]\n",
      " [ 0  0  0  0  0 88  1  0  0  2]\n",
      " [ 0  1  0  0  0  0 90  0  0  0]\n",
      " [ 0  0  0  0  0  1  0 88  0  0]\n",
      " [ 0  0  0  0  0  0  0  0 88  0]\n",
      " [ 0  0  0  1  0  1  0  0  0 90]]\n"
     ]
    },
    {
     "data": {
      "image/png": "[encoded data removed]",
      "text/plain": [
       "<Figure size 432x288 with 2 Axes>"
      ]
     },
     "metadata": {
      "tags": []
     },
     "output_type": "display_data"
    }
   ],
   "source": [
    "from sklearn import datasets, svm, metrics\n",
    "from sklearn.model_selection import train_test_split\n",
    "\n",
    "digits = datasets.load_digits()\n",
    "\n",
    "images_and_labels = list(zip(digits.images, digits.target))\n",
    "\n",
    "n_samples = len(digits.images)\n",
    "data = digits.images.reshape((n_samples, -1))\n",
    "\n",
    "classifier = svm.SVC(gamma=0.001)\n",
    "\n",
    "X_train, X_test, y_train, y_test = train_test_split(\n",
    "    data, digits.target, test_size=0.5, shuffle=False)\n",
    "\n",
    "classifier.fit(X_train, y_train)\n",
    "\n",
    "predicted = classifier.predict(X_test)\n",
    "\n",
    "images_and_predictions = list(zip(digits.images[n_samples // 2:], predicted))\n",
    "\n",
    "print(\"Classification report for classifier %s:\\n%s\\n\"\n",
    "      % (classifier, metrics.classification_report(y_test, predicted)))\n",
    "disp = metrics.plot_confusion_matrix(classifier, X_test, y_test)\n",
    "disp.figure_.suptitle(\"Confusion Matrix\")\n",
    "print(\"Confusion matrix:\\n%s\" % disp.confusion_matrix)\n"
   ]
  },
  {
   "cell_type": "markdown",
   "metadata": {
    "colab_type": "text",
    "id": "KBg7fGbTvyOi"
   },
   "source": [
    "### Read binary file of the dataset"
   ]
  },
  {
   "cell_type": "code",
   "execution_count": 0,
   "metadata": {
    "colab": {},
    "colab_type": "code",
    "id": "AqTYMpjyvgDR",
    "outputId": "0e610121-93c3-4f57-a4d9-cd591daf716a"
   },
   "outputs": [
    {
     "name": "stdout",
     "output_type": "stream",
     "text": [
      "Data is  3 -D\n",
      "no. of images ::  60000\n",
      "no. of rows ::  28\n",
      "no. of columns ::  28\n",
      "[[5]\n",
      " [0]\n",
      " [4]\n",
      " ...\n",
      " [5]\n",
      " [6]\n",
      " [8]]\n",
      "(60000, 1)\n",
      "(60000, 28, 28)\n"
     ]
    }
   ],
   "source": [
    "import time\n",
    "stime = time.time()\n",
    "\n",
    "import struct as st\n",
    "import numpy as np\n",
    "filename = {'images' : 'dataset/train-images-idx3-ubyte' ,'labels' : 'dataset/train-labels-idx1-ubyte'}\n",
    "\n",
    "labels_array = np.array([])\n",
    "\n",
    "data_types = {\n",
    "        0x08: ('ubyte', 'B', 1),\n",
    "        0x09: ('byte', 'b', 1),\n",
    "        0x0B: ('>i2', 'h', 2),\n",
    "        0x0C: ('>i4', 'i', 4),\n",
    "        0x0D: ('>f4', 'f', 4),\n",
    "        0x0E: ('>f8', 'd', 8)}\n",
    "\n",
    "for name in filename.keys():\n",
    "    if name == 'images':\n",
    "        imagesfile = open(filename[name],'rb')\n",
    "    if name == 'labels':\n",
    "        labelsfile = open(filename[name],'rb')\n",
    "\n",
    "imagesfile.seek(0)\n",
    "magic = st.unpack('>4B',imagesfile.read(4))\n",
    "if(magic[0] and magic[1])or(magic[2] not in data_types):\n",
    "    raise ValueError(\"File Format not correct\")\n",
    "\n",
    "nDim = magic[3]\n",
    "print (\"Data is \",nDim,\"-D\")\n",
    "\n",
    "#offset = 0004 for number of images\n",
    "#offset = 0008 for number of rows\n",
    "#offset = 0012 for number of columns\n",
    "#32-bit integer (32 bits = 4 bytes)\n",
    "imagesfile.seek(4)\n",
    "nImg = st.unpack('>I',imagesfile.read(4))[0] #num of images/labels\n",
    "nR = st.unpack('>I',imagesfile.read(4))[0] #num of rows\n",
    "nC = st.unpack('>I',imagesfile.read(4))[0] #num of columns\n",
    "nBytes = nImg*nR*nC\n",
    "labelsfile.seek(8) #Since no. of items = no. of images and is already read\n",
    "print (\"no. of images :: \",nImg)\n",
    "print (\"no. of rows :: \",nR)\n",
    "print (\"no. of columns :: \",nC)\n",
    "\n",
    "#Read all data bytes at once and then reshape\n",
    "images_array = 255 - np.asarray(st.unpack('>'+'B'*nBytes,imagesfile.read(nBytes))).reshape((nImg,nR,nC))\n",
    "labels_array = np.asarray(st.unpack('>'+'B'*nImg,labelsfile.read(nImg))).reshape((nImg,1))\n",
    "\n",
    "print (labels_array)\n",
    "print (labels_array.shape)\n",
    "print (images_array.shape)"
   ]
  },
  {
   "cell_type": "markdown",
   "metadata": {
    "colab_type": "text",
    "id": "ij8KVI6Ov8l4"
   },
   "source": [
    "### Read data using MNIST library "
   ]
  },
  {
   "cell_type": "code",
   "execution_count": 2,
   "metadata": {
    "colab": {
     "base_uri": "https://localhost:8080/",
     "height": 365
    },
    "colab_type": "code",
    "id": "QRZ3znDKvgDd",
    "outputId": "57f88abe-2c96-482f-f8be-92346cf18f43"
   },
   "outputs": [
    {
     "name": "stdout",
     "output_type": "stream",
     "text": [
      "(60000, 784)\n"
     ]
    }
   ],
   "source": [
    "from mnist import MNIST\n",
    "import numpy as np\n",
    "mndata = MNIST('./dataset')\n",
    "images_array, labels_array = mndata.load_training()\n",
    "print(np.shape(images_array))"
   ]
  },
  {
   "cell_type": "markdown",
   "metadata": {
    "colab_type": "text",
    "id": "0h2sYKjxwFJb"
   },
   "source": [
    "## Classification using CNN\n",
    "\n",
    "> Import Pytorch libraries\n",
    "\n"
   ]
  },
  {
   "cell_type": "code",
   "execution_count": 3,
   "metadata": {
    "colab": {},
    "colab_type": "code",
    "id": "TFYKN9KtvgDm"
   },
   "outputs": [],
   "source": [
    "import torch\n",
    "import torch.nn as nn\n",
    "import torch.nn.functional as F\n",
    "import torch.optim as optim"
   ]
  },
  {
   "cell_type": "markdown",
   "metadata": {
    "colab_type": "text",
    "id": "7Gs5wSqMxP3f"
   },
   "source": [
    "\n",
    "> Define class for CNN\n",
    "\n"
   ]
  },
  {
   "cell_type": "code",
   "execution_count": 13,
   "metadata": {
    "colab": {},
    "colab_type": "code",
    "id": "AbsOZXvJvgEB"
   },
   "outputs": [],
   "source": [
    "class Net(nn.Module):\n",
    "\n",
    "    def __init__(self):\n",
    "        super(Net, self).__init__()\n",
    "        self.conv1 = nn.Conv2d(1, 10, kernel_size=5)\n",
    "        self.conv2 = nn.Conv2d(10, 20, kernel_size=5)\n",
    "        self.conv2_drop = nn.Dropout2d()\n",
    "        self.fc1 = nn.Linear(320, 50)\n",
    "        self.fc2 = nn.Linear(50, 10)\n",
    "\n",
    "    def forward(self, x):\n",
    "        x = F.relu(F.max_pool2d(self.conv1(x), 2))\n",
    "        x = F.relu(F.max_pool2d(self.conv2_drop(self.conv2(x)), 2))\n",
    "        x = x.view(-1, 320)\n",
    "        x = F.relu(self.fc1(x))\n",
    "        x = F.dropout(x, training=self.training)\n",
    "        x = self.fc2(x)\n",
    "        return F.log_softmax(x)"
   ]
  },
  {
   "cell_type": "markdown",
   "metadata": {
    "colab_type": "text",
    "id": "0qgFEF5gxe8b"
   },
   "source": [
    "\n",
    "\n",
    "> Define parameters for training\n",
    "\n"
   ]
  },
  {
   "cell_type": "code",
   "execution_count": 24,
   "metadata": {
    "colab": {},
    "colab_type": "code",
    "id": "myJPy7VavgD8"
   },
   "outputs": [],
   "source": [
    "n_epochs = 8\n",
    "batch_size_train = 64\n",
    "batch_size_test = 1000\n",
    "learning_rate = 0.001\n",
    "momentum = 0.5\n",
    "log_interval = 1000"
   ]
  },
  {
   "cell_type": "markdown",
   "metadata": {
    "colab_type": "text",
    "id": "yjt90tl3xthM"
   },
   "source": [
    "\n",
    "\n",
    "> Initialize network\n",
    "\n"
   ]
  },
  {
   "cell_type": "code",
   "execution_count": 14,
   "metadata": {
    "colab": {},
    "colab_type": "code",
    "id": "ircfdl4KvgDt"
   },
   "outputs": [],
   "source": [
    "network = Net()\n",
    "optimizer = optim.SGD(network.parameters(), lr=learning_rate, momentum=momentum)"
   ]
  },
  {
   "cell_type": "markdown",
   "metadata": {
    "colab_type": "text",
    "id": "myNORGJRy4CY"
   },
   "source": [
    "\n",
    "\n",
    "> Prepare train and test data\n",
    "\n"
   ]
  },
  {
   "cell_type": "code",
   "execution_count": 15,
   "metadata": {
    "colab": {},
    "colab_type": "code",
    "id": "JAM9Z_EFvgD0",
    "outputId": "914d42b5-ee85-4cbc-d93c-320cf6f906e4"
   },
   "outputs": [
    {
     "name": "stdout",
     "output_type": "stream",
     "text": [
      "x_train shape: (48000, 1, 28, 28)\n",
      "Number of images in x_train 48000\n",
      "Number of images in x_test 12000\n"
     ]
    }
   ],
   "source": [
    "from sklearn.model_selection import train_test_split\n",
    "\n",
    "BATCH_SIZE = 32\n",
    "X_train, X_test, y_train, y_test = train_test_split(np.asarray(images_array), np.asarray(labels_array), test_size=0.20)\n",
    "\n",
    "\n",
    "###############\n",
    "X_train = X_train.reshape(X_train.shape[0], 1, 28, 28)\n",
    "X_test = X_test.reshape(X_test.shape[0], 1, 28, 28)\n",
    "y_train = y_train.reshape(y_train.shape[0])\n",
    "y_test = y_test.reshape(y_test.shape[0])\n",
    "input_shape = (28, 28, 1)\n",
    "\n",
    "X_train = X_train.astype('float32')\n",
    "X_test = X_test.astype('float32')\n",
    "\n",
    "X_train /= 255\n",
    "X_test /= 255\n",
    "print('x_train shape:', X_train.shape)\n",
    "print('Number of images in x_train', X_train.shape[0])\n",
    "print('Number of images in x_test', X_test.shape[0])\n",
    "##############\n",
    "\n",
    "\n",
    "torch_X_train = torch.from_numpy(X_train).type(torch.FloatTensor)\n",
    "torch_y_train = torch.from_numpy(y_train).type(torch.LongTensor) \n",
    "\n",
    "torch_X_test = torch.from_numpy(X_test).type(torch.FloatTensor)\n",
    "torch_y_test = torch.from_numpy(y_test).type(torch.LongTensor)\n",
    "\n",
    "\n",
    "train = torch.utils.data.TensorDataset(torch_X_train,torch_y_train)\n",
    "test = torch.utils.data.TensorDataset(torch_X_test,torch_y_test)\n",
    "\n",
    "\n",
    "train_loader = torch.utils.data.DataLoader(train, batch_size = BATCH_SIZE, shuffle = False)\n",
    "test_loader = torch.utils.data.DataLoader(test, batch_size = BATCH_SIZE, shuffle = False)\n"
   ]
  },
  {
   "cell_type": "code",
   "execution_count": 16,
   "metadata": {
    "colab": {},
    "colab_type": "code",
    "id": "l45PFS5mvgEG"
   },
   "outputs": [],
   "source": [
    "train_losses = []\n",
    "train_counter = []\n",
    "test_losses = []\n",
    "test_counter = [i*len(images_array) for i in range(n_epochs + 1)]"
   ]
  },
  {
   "cell_type": "code",
   "execution_count": 17,
   "metadata": {
    "colab": {},
    "colab_type": "code",
    "id": "6pnRljhnvgEM"
   },
   "outputs": [],
   "source": [
    "def train(epoch):\n",
    "  network.train()\n",
    "  for batch_idx, (data, target) in enumerate(train_loader):\n",
    "    optimizer.zero_grad()\n",
    "    output = network(data)\n",
    "    loss = F.nll_loss(output, target)\n",
    "    loss.backward()\n",
    "    optimizer.step()\n",
    "    if batch_idx % log_interval == 0:\n",
    "      print('Train Epoch: {} [{}/{} ({:.0f}%)]\\tLoss: {:.6f}'.format(\n",
    "        epoch, batch_idx * len(data), len(train_loader.dataset),\n",
    "        100. * batch_idx / len(train_loader), loss.item()))\n",
    "      train_losses.append(loss.item())\n",
    "      train_counter.append(\n",
    "        (batch_idx*64) + ((epoch-1)*len(train_loader.dataset)))"
   ]
  },
  {
   "cell_type": "code",
   "execution_count": 22,
   "metadata": {
    "colab": {},
    "colab_type": "code",
    "id": "rIw5KuvnvgET"
   },
   "outputs": [],
   "source": [
    "def test():\n",
    "  network.eval()\n",
    "  test_loss = 0\n",
    "  correct = 0\n",
    "  with torch.no_grad():\n",
    "    for data, target in test_loader:\n",
    "      #print(data.shape)\n",
    "      #print(np.shape(target))\n",
    "      #print(data)\n",
    "      output = network(data)\n",
    "      test_loss += F.nll_loss(output, target, size_average=False).item()\n",
    "      pred = output.data.max(1, keepdim=True)[1]\n",
    "      #print(pred)\n",
    "      correct += pred.eq(target.data.view_as(pred)).sum()\n",
    "  test_loss /= len(test_loader.dataset)\n",
    "  test_losses.append(test_loss)\n",
    "  print('\\nTest set: Avg. loss: {:.4f}, Accuracy: {}/{} ({:.0f}%)\\n'.format(\n",
    "    test_loss, correct, len(test_loader.dataset),\n",
    "    100. * correct / len(test_loader.dataset)))"
   ]
  },
  {
   "cell_type": "code",
   "execution_count": 25,
   "metadata": {
    "colab": {},
    "colab_type": "code",
    "id": "Eu1bX7HZvgEZ",
    "outputId": "42994f51-1ad3-4779-981a-fb1bf4b71e06"
   },
   "outputs": [
    {
     "name": "stderr",
     "output_type": "stream",
     "text": [
      "/usr/lib/python3/dist-packages/ipykernel_launcher.py:18: UserWarning: Implicit dimension choice for log_softmax has been deprecated. Change the call to include dim=X as an argument.\n"
     ]
    },
    {
     "name": "stdout",
     "output_type": "stream",
     "text": [
      "Train Epoch: 1 [0/48000 (0%)]\tLoss: 0.712653\n",
      "Train Epoch: 1 [32000/48000 (67%)]\tLoss: 0.404447\n",
      "\n",
      "Test set: Avg. loss: 0.1710, Accuracy: 11416/12000 (95%)\n",
      "\n",
      "Train Epoch: 2 [0/48000 (0%)]\tLoss: 0.818281\n",
      "Train Epoch: 2 [32000/48000 (67%)]\tLoss: 0.493597\n",
      "\n",
      "Test set: Avg. loss: 0.1632, Accuracy: 11432/12000 (95%)\n",
      "\n",
      "Train Epoch: 3 [0/48000 (0%)]\tLoss: 0.682777\n",
      "Train Epoch: 3 [32000/48000 (67%)]\tLoss: 0.365860\n",
      "\n",
      "Test set: Avg. loss: 0.1592, Accuracy: 11438/12000 (95%)\n",
      "\n",
      "Train Epoch: 4 [0/48000 (0%)]\tLoss: 1.049464\n",
      "Train Epoch: 4 [32000/48000 (67%)]\tLoss: 0.418026\n",
      "\n",
      "Test set: Avg. loss: 0.1582, Accuracy: 11428/12000 (95%)\n",
      "\n",
      "Train Epoch: 5 [0/48000 (0%)]\tLoss: 0.775062\n",
      "Train Epoch: 5 [32000/48000 (67%)]\tLoss: 0.609121\n",
      "\n",
      "Test set: Avg. loss: 0.1514, Accuracy: 11471/12000 (96%)\n",
      "\n",
      "Train Epoch: 6 [0/48000 (0%)]\tLoss: 0.769052\n",
      "Train Epoch: 6 [32000/48000 (67%)]\tLoss: 0.510075\n",
      "\n",
      "Test set: Avg. loss: 0.1495, Accuracy: 11476/12000 (96%)\n",
      "\n",
      "Train Epoch: 7 [0/48000 (0%)]\tLoss: 0.743701\n",
      "Train Epoch: 7 [32000/48000 (67%)]\tLoss: 0.468539\n",
      "\n",
      "Test set: Avg. loss: 0.1452, Accuracy: 11492/12000 (96%)\n",
      "\n",
      "Train Epoch: 8 [0/48000 (0%)]\tLoss: 0.347850\n",
      "Train Epoch: 8 [32000/48000 (67%)]\tLoss: 0.464340\n",
      "\n",
      "Test set: Avg. loss: 0.1411, Accuracy: 11506/12000 (96%)\n",
      "\n"
     ]
    }
   ],
   "source": [
    "for epoch in range(1, n_epochs + 1):\n",
    "  train(epoch)\n",
    "  test()"
   ]
  },
  {
   "cell_type": "code",
   "execution_count": 0,
   "metadata": {
    "colab": {},
    "colab_type": "code",
    "id": "oRkXAK46vgEf"
   },
   "outputs": [],
   "source": []
  }
 ],
 "metadata": {
  "colab": {
   "collapsed_sections": [],
   "name": "smai_a3_q3.ipynb",
   "provenance": []
  },
  "kernelspec": {
   "display_name": "Python 3",
   "language": "python",
   "name": "python3"
  },
  "language_info": {
   "codemirror_mode": {
    "name": "ipython",
    "version": 3
   },
   "file_extension": ".py",
   "mimetype": "text/x-python",
   "name": "python",
   "nbconvert_exporter": "python",
   "pygments_lexer": "ipython3",
   "version": "3.6.9"
  }
 },
 "nbformat": 4,
 "nbformat_minor": 1
}
