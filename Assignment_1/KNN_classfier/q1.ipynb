{
  "nbformat": 4,
  "nbformat_minor": 0,
  "metadata": {
    "colab": {
      "name": "q1.ipynb",
      "provenance": [],
      "collapsed_sections": [],
      "toc_visible": true
    },
    "kernelspec": {
      "name": "python3",
      "display_name": "Python 3"
    },
    "accelerator": "GPU"
  },
  "cells": [
    {
      "cell_type": "code",
      "metadata": {
        "id": "Zl5ze4WPOvaA",
        "colab_type": "code",
        "colab": {}
      },
      "source": [
        ""
      ],
      "execution_count": 0,
      "outputs": []
    },
    {
      "cell_type": "markdown",
      "metadata": {
        "id": "fNh23VIBPAZH",
        "colab_type": "text"
      },
      "source": [
        "### Q.1 KNN Classifier : For classification of images of handwritten digits\n",
        " Mount google drive to load the data from"
      ]
    },
    {
      "cell_type": "code",
      "metadata": {
        "id": "PmS0irL45lil",
        "colab_type": "code",
        "outputId": "985eb77e-6d66-4b32-f958-fd1329e6d219",
        "colab": {
          "base_uri": "https://localhost:8080/",
          "height": 34
        }
      },
      "source": [
        "from google.colab import drive\n",
        "drive.mount('/content/gdrive')"
      ],
      "execution_count": 0,
      "outputs": [
        {
          "output_type": "stream",
          "text": [
            "Drive already mounted at /content/gdrive; to attempt to forcibly remount, call drive.mount(\"/content/gdrive\", force_remount=True).\n"
          ],
          "name": "stdout"
        }
      ]
    },
    {
      "cell_type": "markdown",
      "metadata": {
        "id": "zKDElGMJP-zo",
        "colab_type": "text"
      },
      "source": [
        "Import libraries"
      ]
    },
    {
      "cell_type": "code",
      "metadata": {
        "id": "_t8pxukpOraH",
        "colab_type": "code",
        "colab": {}
      },
      "source": [
        "import numpy as np\n",
        "import pandas as pd\n",
        "from numpy import log2 as log\n",
        "from sklearn import preprocessing\n",
        "from sklearn.model_selection import train_test_split\n",
        "from sklearn.metrics import accuracy_score, confusion_matrix, classification_report\n",
        "from sklearn.neighbors import KNeighborsClassifier\n",
        "import operator\n",
        "import sys\n",
        "import matplotlib.pyplot as plt\n",
        "from matplotlib import style\n",
        "style.use(\"ggplot\")"
      ],
      "execution_count": 0,
      "outputs": []
    },
    {
      "cell_type": "markdown",
      "metadata": {
        "id": "JPsTOvtLQGt6",
        "colab_type": "text"
      },
      "source": [
        "> Read train data from the CSV file into a pandas dataframe.\n",
        "\n",
        "> Slice the label from the dataframe and convert to numpy array.\n",
        "\n",
        "> Randomly sample 20% of the train data for valiation."
      ]
    },
    {
      "cell_type": "code",
      "metadata": {
        "id": "kYyxqWylQpPz",
        "colab_type": "code",
        "colab": {}
      },
      "source": [
        "train_df = pd.read_csv(\"/content/gdrive/My Drive/SMAI/Assignment-1/q1/train.csv\", header=None)\n",
        "validation_df = train_df.sample(frac=0.2)\n",
        "train_df = train_df.drop(validation_df.index)\n",
        "train_data = train_df.to_numpy()\n",
        "validation_data = validation_df.to_numpy()\n",
        "train_label = train_data[:,0]\n",
        "train_data = train_data[:,1:]\n",
        "validation_label = validation_data[:,0]\n",
        "validation_data = validation_data[:,1:]"
      ],
      "execution_count": 0,
      "outputs": []
    },
    {
      "cell_type": "markdown",
      "metadata": {
        "id": "nW9knZ0SQrPK",
        "colab_type": "text"
      },
      "source": [
        "> To find the optimal value for k, we should test for sqrt(n) values of k where n = no. of samples. Here we test for 5 values of k.\n",
        "\n"
      ]
    },
    {
      "cell_type": "code",
      "metadata": {
        "id": "-wWyNdoMRubH",
        "colab_type": "code",
        "colab": {}
      },
      "source": [
        "k = [3,5,7,9,11]\n",
        "max_k=max(k)\n",
        "euclid_success=[]\n",
        "manhatt_success=[]\n",
        "euclid_dist_mat = []\n",
        "manhatt_dist_mat=[]"
      ],
      "execution_count": 0,
      "outputs": []
    },
    {
      "cell_type": "markdown",
      "metadata": {
        "id": "kJmhkroPRyMD",
        "colab_type": "text"
      },
      "source": [
        "\n",
        "\n",
        "> Apply KNN algorithm. For each validation sample, find euclidean and manhattan distances from all train sample and find the nearest 'k' samples."
      ]
    },
    {
      "cell_type": "code",
      "metadata": {
        "id": "3s4GuBvdSg2s",
        "colab_type": "code",
        "colab": {}
      },
      "source": [
        "def byfirst(elem):\n",
        "    return elem[0]\n",
        "    \n",
        "for q in range(0,len(validation_data)):\n",
        "    manhatt_dist_vec=[]\n",
        "    euclid_dist_vec=[]\n",
        "    for r in range(0,len(train_data)):\n",
        "        x = validation_data[q] - train_data[r]\n",
        "        x = np.absolute(x)\n",
        "        manhatt_dist = np.sum(x)\n",
        "        manhatt_dist_vec.append((manhatt_dist, train_label[r]))\n",
        "        manhatt_dist_vec.sort(key=byfirst)\n",
        "        if (len(manhatt_dist_vec)>max_k):\n",
        "            manhatt_dist_vec.pop()\n",
        "        \n",
        "        x = x*x\n",
        "        euclid_dist = np.sum(x)\n",
        "        euclid_dist_vec.append((euclid_dist, train_label[r]))\n",
        "        euclid_dist_vec.sort(key=byfirst)\n",
        "        if (len(euclid_dist_vec)>max_k):\n",
        "            euclid_dist_vec.pop()\n",
        "    \n",
        "    manhatt_dist_mat.append(manhatt_dist_vec)\n",
        "    euclid_dist_mat.append(euclid_dist_vec)"
      ],
      "execution_count": 0,
      "outputs": []
    },
    {
      "cell_type": "markdown",
      "metadata": {
        "id": "bLKlENeAY2zs",
        "colab_type": "text"
      },
      "source": [
        "\n",
        "\n",
        "> We perform validation using Scikit-learn's KNN classifier to verify the accuracy and value of k.\n",
        "\n"
      ]
    },
    {
      "cell_type": "markdown",
      "metadata": {
        "id": "_tbfB28ESkiJ",
        "colab_type": "text"
      },
      "source": [
        "> To find the optimum 'k' value, plot the k vs accuracy graph. \n",
        "\n",
        "> We observe from graph that the accuracy is highest for k=3.\n",
        "\n",
        "> We also observe the effect of distance metric. The accuracy is higher for a k when classifying using the Euclidian distance than Manhattan distance."
      ]
    },
    {
      "cell_type": "code",
      "metadata": {
        "id": "vpN0FnBs6WA8",
        "colab_type": "code",
        "outputId": "6e89c27c-7ae3-4593-dd49-ac0eab31fbd1",
        "colab": {
          "base_uri": "https://localhost:8080/",
          "height": 299
        }
      },
      "source": [
        "manhatt_predict_label = []\n",
        "euclid_predict_label = []\n",
        "for i in k:\n",
        "    manhatt_succ_count=0\n",
        "    euclid_succ_count=0\n",
        "    manhatt_predict_tmp = []\n",
        "    euclid_predict_tmp = []\n",
        "    for j in range(0, len(validation_data)):\n",
        "        man_tmp_dist = manhatt_dist_mat[j][0:i]\n",
        "        man_max_label=[x[1] for x in man_tmp_dist]\n",
        "        man_predict_label=max(set(man_max_label), key=man_max_label.count)\n",
        "        manhatt_predict_tmp.append(man_predict_label)\n",
        "        if (validation_label[j]==man_predict_label):\n",
        "            manhatt_succ_count+=1\n",
        "        \n",
        "        euc_tmp_dist = euclid_dist_mat[j][0:i]\n",
        "        euc_max_label=[x[1] for x in euc_tmp_dist]\n",
        "        euc_predict_label=max(set(euc_max_label), key=euc_max_label.count)\n",
        "        euclid_predict_tmp.append(euc_predict_label)\n",
        "        if (validation_label[j]==euc_predict_label):\n",
        "            euclid_succ_count+=1\n",
        "    manhatt_predict_label.append(manhatt_predict_tmp)\n",
        "    euclid_predict_label.append(euclid_predict_tmp)\n",
        "    manhatt_success.append((manhatt_succ_count/len(validation_data))*100)\n",
        "    euclid_success.append((euclid_succ_count/len(validation_data))*100)\n",
        "\n",
        "plt.title(\"k-value vs Accuracy\")\n",
        "plt.ylabel('Accuracy')\n",
        "plt.xlabel('k-value')\n",
        "\n",
        "plt.plot(k,euclid_success,'b', label=\"Euc succ. rate\")\n",
        "plt.plot(k,manhatt_success,'g', label=\"Manhatt. succ. rate\")\n",
        "plt.legend()\n",
        "plt.grid(True, color='k')\n",
        "plt.show()"
      ],
      "execution_count": 0,
      "outputs": [
        {
          "output_type": "display_data",
          "data": {
            "image/png": "[encoded data removed]",
            "text/plain": [
              "<Figure size 432x288 with 1 Axes>"
            ]
          },
          "metadata": {
            "tags": []
          }
        }
      ]
    },
    {
      "cell_type": "code",
      "metadata": {
        "id": "6pXGjqmbuHa4",
        "colab_type": "code",
        "outputId": "246d4c2c-d1b8-409d-ba8e-02f67dd197e3",
        "colab": {
          "base_uri": "https://localhost:8080/",
          "height": 538
        }
      },
      "source": [
        "data_frame = pd.read_csv('/content/gdrive/My Drive/SMAI/Assignment-1/q1/train.csv',header=None)\n",
        "train_data = data_frame.iloc[:, 1: 785].values        \n",
        "test_label = data_frame.iloc[:, 0].values  \n",
        "\n",
        "X_train, X_test, Y_train, Y_test = train_test_split(train_data, test_label,test_size=0.2)\n",
        "s1 = pd.Series([X_train])\n",
        "s2 = pd.Series([Y_train])\n",
        "df1=pd.concat([s1, s2],axis=1)\n",
        "neigh = KNeighborsClassifier(n_neighbors=3)\n",
        "neigh.fit(X_train, Y_train)\n",
        "p = neigh.predict(X_test)\n",
        "print (\"Confusion-matrix :\")\n",
        "print(confusion_matrix(Y_test,p))\n",
        "print(\"Classification-report\")\n",
        "print (classification_report(Y_test,p))\n",
        "print (\"Accuracy score :\", accuracy_score(Y_test,p))"
      ],
      "execution_count": 0,
      "outputs": [
        {
          "output_type": "stream",
          "text": [
            "Confusion-matrix :\n",
            "[[413   0   0   0   0   2   1   0   0   0]\n",
            " [  0 435   1   1   1   0   0   2   0   1]\n",
            " [  3   7 384   5   0   1   0   6   2   0]\n",
            " [  0   2   3 388   0   5   0   1   1   1]\n",
            " [  0   2   0   0 371   0   2   0   0  15]\n",
            " [  2   3   0   5   2 316   8   0   0   0]\n",
            " [  3   2   0   0   0   3 375   0   0   0]\n",
            " [  0   4   1   1   0   0   1 432   0  10]\n",
            " [  0   3   2   8   5   3   2   1 353   3]\n",
            " [  4   0   1   3   5   0   0   9   0 374]]\n",
            "Classification-report\n",
            "              precision    recall  f1-score   support\n",
            "\n",
            "           0       0.97      0.99      0.98       416\n",
            "           1       0.95      0.99      0.97       441\n",
            "           2       0.98      0.94      0.96       408\n",
            "           3       0.94      0.97      0.96       401\n",
            "           4       0.97      0.95      0.96       390\n",
            "           5       0.96      0.94      0.95       336\n",
            "           6       0.96      0.98      0.97       383\n",
            "           7       0.96      0.96      0.96       449\n",
            "           8       0.99      0.93      0.96       380\n",
            "           9       0.93      0.94      0.93       396\n",
            "\n",
            "    accuracy                           0.96      4000\n",
            "   macro avg       0.96      0.96      0.96      4000\n",
            "weighted avg       0.96      0.96      0.96      4000\n",
            "\n",
            "Accuracy score : 0.96025\n"
          ],
          "name": "stdout"
        }
      ]
    },
    {
      "cell_type": "markdown",
      "metadata": {
        "id": "xPUDxPGqT-kw",
        "colab_type": "text"
      },
      "source": [
        "\n",
        "\n",
        "> We test the KNN classifier on the test data for k=3 and display the classification report.\n",
        "\n",
        "\n",
        "\n",
        "\n",
        "\n",
        "\n",
        "\n"
      ]
    },
    {
      "cell_type": "code",
      "metadata": {
        "id": "kXKYBNiZRv4-",
        "colab_type": "code",
        "colab": {}
      },
      "source": [
        "k=3\n",
        "train_df = pd.read_csv(\"/content/gdrive/My Drive/SMAI/Assignment-1/q1/train.csv\", header=None)\n",
        "train_data = train_df.to_numpy()\n",
        "train_label = train_data[:,0]\n",
        "train_data = train_data[:,1:]\n",
        "\n",
        "test_df = pd.read_csv(\"/content/gdrive/My Drive/SMAI/Assignment-1/q1/test.csv\", header=None)\n",
        "test_data = test_df.to_numpy()\n",
        "euclid_success=[]\n",
        "manhatt_success=[]\n",
        "euclid_dist_mat = []\n",
        "manhatt_dist_mat=[]\n",
        "for q in range(0,len(test_data)):\n",
        "    manhatt_dist_vec=[]\n",
        "    euclid_dist_vec=[]\n",
        "    for r in range(0,len(train_data)):\n",
        "        x = test_data[q] - train_data[r]\n",
        "        x = np.absolute(x)\n",
        "        manhatt_dist = np.sum(x)\n",
        "        manhatt_dist_vec.append((manhatt_dist, train_label[r]))\n",
        "        manhatt_dist_vec.sort(key=byfirst)\n",
        "        if (len(manhatt_dist_vec)>k):\n",
        "            manhatt_dist_vec.pop()\n",
        "        \n",
        "        x = x*x\n",
        "        euclid_dist = np.sum(x)\n",
        "        euclid_dist_vec.append((euclid_dist, train_label[r]))\n",
        "        euclid_dist_vec.sort(key=byfirst)\n",
        "        if (len(euclid_dist_vec)>k):\n",
        "            euclid_dist_vec.pop()\n",
        "        manhatt_dist_mat.append(manhatt_dist_vec)\n",
        "        euclid_dist_mat.append(euclid_dist_vec)\n",
        "\n",
        "test_label = list()\n",
        "with open(\"/content/gdrive/My Drive/SMAI/Assignment-1/q1/test_labels.csv\") as f:\n",
        "  for line in f:\n",
        "    test_label.append(line.strip())\n",
        "\n",
        "manhatt_succ_count=0\n",
        "euclid_succ_count=0\n",
        "predict_label = []\n",
        "for j in range(0, len(test_data)):\n",
        "    man_tmp_dist = manhatt_dist_mat[j][0:k]\n",
        "    man_max_label=[x[1] for x in man_tmp_dist]\n",
        "    man_predict_label=max(set(man_max_label), key=man_max_label.count)\n",
        "    if (test_label[j]==man_predict_label):\n",
        "        manhatt_succ_count+=1\n",
        "    \n",
        "    euc_tmp_dist = euclid_dist_mat[j][0:k]\n",
        "    euc_max_label=[x[1] for x in euc_tmp_dist]\n",
        "    euc_predict_label=max(set(euc_max_label), key=euc_max_label.count)\n",
        "    predict_label.append(euc_predict_label)\n",
        "    if (test_label[j]==euc_predict_label):\n",
        "        euclid_succ_count+=1\n",
        "    manhatt_success.append(manhatt_succ_count)\n",
        "    euclid_success.append(euclid_succ_count)\n",
        "print(\"Classification report :\")    \n",
        "print(classification_report(test_label, predict_label))"
      ],
      "execution_count": 0,
      "outputs": []
    }
  ]
}